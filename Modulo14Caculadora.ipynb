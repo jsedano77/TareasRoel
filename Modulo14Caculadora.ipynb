{
 "cells": [
  {
   "cell_type": "markdown",
   "id": "0f2d426b",
   "metadata": {},
   "source": [
    "# Sesion 14 - Actividad Calculadora"
   ]
  },
  {
   "cell_type": "markdown",
   "id": "be078b18",
   "metadata": {},
   "source": [
    "### Crear una calculadora con al menos 4 operaciones básicas definiendo una clase \"calculadora\" y dentro de esta las operaciones (sumar, restar, dividir y multiplicar).\n",
    "### El programa debe pedirle al usuario que ingrese dos valores, con los cuales la calculadora hará las 4 operaciones definidas anteriormente. \n",
    "### Es importante recordar que al momento de hacer una división, el denominador no puede ser igual a 0, por lo que en caso de que el usuario ingrese dicho valor, el programa debe imprimir que la respuesta de la operación de división con dicho valor ingresado es indefinido.\n"
   ]
  },
  {
   "cell_type": "code",
   "execution_count": 10,
   "id": "92e31b5f",
   "metadata": {},
   "outputs": [
    {
     "name": "stdout",
     "output_type": "stream",
     "text": [
      "Ingrese el primer número: 1\n",
      "Ingrese el segundo número: 2\n",
      "La sumatoria es igual a:  3.0\n",
      "La resta es igual a:  -1.0\n",
      "La division es igual a:  0.5\n",
      "La multplicacion es igual a:  2.0\n"
     ]
    }
   ],
   "source": [
    "class calculadora:\n",
    "    def __init__(self,num1,num2):\n",
    "        self.num1= float(num1)\n",
    "        self.num2= float(num2)\n",
    "    \n",
    "    def suma(self):\n",
    "        suma=self.num1+self.num2\n",
    "        print('La sumatoria es igual a: ', suma)\n",
    "        \n",
    "    def resta(self):\n",
    "        resta=self.num1-self.num2\n",
    "        print('La resta es igual a: ',resta)\n",
    "    \n",
    "    def divide(self):\n",
    "        division = 0\n",
    "        if(self.num2 ==0):\n",
    "            print('El resultado de la division es indefinido') \n",
    "        else:\n",
    "            division=self.num1/self.num2\n",
    "            print('La division es igual a: ',division)\n",
    "    \n",
    "    def multiplica(self):\n",
    "        resta=self.num1*self.num2\n",
    "        print('La multplicacion es igual a: ',resta)\n",
    "        \n",
    "num1=input('Ingrese el primer número: ')\n",
    "num2=input('Ingrese el segundo número: ')\n",
    "\n",
    "calculadora=calculadora(num1,num2)\n",
    "calculadora.suma()\n",
    "calculadora.resta()\n",
    "calculadora.divide()\n",
    "calculadora.multiplica()"
   ]
  },
  {
   "cell_type": "code",
   "execution_count": null,
   "id": "aefafa0c",
   "metadata": {},
   "outputs": [],
   "source": []
  },
  {
   "cell_type": "code",
   "execution_count": null,
   "id": "f8a756f8",
   "metadata": {},
   "outputs": [],
   "source": []
  }
 ],
 "metadata": {
  "kernelspec": {
   "display_name": "Python 3 (ipykernel)",
   "language": "python",
   "name": "python3"
  },
  "language_info": {
   "codemirror_mode": {
    "name": "ipython",
    "version": 3
   },
   "file_extension": ".py",
   "mimetype": "text/x-python",
   "name": "python",
   "nbconvert_exporter": "python",
   "pygments_lexer": "ipython3",
   "version": "3.10.10"
  }
 },
 "nbformat": 4,
 "nbformat_minor": 5
}
