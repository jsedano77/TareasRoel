{
 "cells": [
  {
   "cell_type": "markdown",
   "id": "937e4ad6",
   "metadata": {},
   "source": [
    "Práctica"
   ]
  },
  {
   "cell_type": "code",
   "execution_count": 1,
   "id": "a647295b",
   "metadata": {},
   "outputs": [],
   "source": [
    "i=4 #Entero"
   ]
  },
  {
   "cell_type": "code",
   "execution_count": 2,
   "id": "5101a769",
   "metadata": {},
   "outputs": [
    {
     "data": {
      "text/plain": [
       "256"
      ]
     },
     "execution_count": 2,
     "metadata": {},
     "output_type": "execute_result"
    }
   ],
   "source": [
    "i**4 #Entero ; Mantiene el tipo de variable"
   ]
  },
  {
   "cell_type": "code",
   "execution_count": 3,
   "id": "63063cea",
   "metadata": {},
   "outputs": [
    {
     "data": {
      "text/plain": [
       "4"
      ]
     },
     "execution_count": 3,
     "metadata": {},
     "output_type": "execute_result"
    }
   ],
   "source": [
    "i"
   ]
  },
  {
   "cell_type": "code",
   "execution_count": 4,
   "id": "e8067784",
   "metadata": {},
   "outputs": [],
   "source": [
    "i*=10 #Multiplica el valor almacenado en i por el escrito a la derecha del igual"
   ]
  },
  {
   "cell_type": "code",
   "execution_count": 5,
   "id": "a352c3c6",
   "metadata": {},
   "outputs": [
    {
     "data": {
      "text/plain": [
       "40"
      ]
     },
     "execution_count": 5,
     "metadata": {},
     "output_type": "execute_result"
    }
   ],
   "source": [
    "i"
   ]
  },
  {
   "cell_type": "code",
   "execution_count": 6,
   "id": "bf8ecfb4",
   "metadata": {},
   "outputs": [
    {
     "data": {
      "text/plain": [
       "4.0"
      ]
     },
     "execution_count": 6,
     "metadata": {},
     "output_type": "execute_result"
    }
   ],
   "source": [
    "i /=10 #Puede alterar el tipo de variable\n",
    "i"
   ]
  },
  {
   "cell_type": "code",
   "execution_count": 7,
   "id": "e8db6eeb",
   "metadata": {},
   "outputs": [
    {
     "data": {
      "text/plain": [
       "3.0"
      ]
     },
     "execution_count": 7,
     "metadata": {},
     "output_type": "execute_result"
    }
   ],
   "source": [
    "i -= 1 #Mantiene el tipo de variable\n",
    "i"
   ]
  },
  {
   "cell_type": "code",
   "execution_count": 8,
   "id": "da1df85e",
   "metadata": {},
   "outputs": [
    {
     "data": {
      "text/plain": [
       "13.0"
      ]
     },
     "execution_count": 8,
     "metadata": {},
     "output_type": "execute_result"
    }
   ],
   "source": [
    "i += 10 #Mantiene el tipo de variable\n",
    "i"
   ]
  },
  {
   "cell_type": "code",
   "execution_count": 6,
   "id": "0b4f644d",
   "metadata": {},
   "outputs": [],
   "source": [
    "i=13"
   ]
  },
  {
   "cell_type": "code",
   "execution_count": 7,
   "id": "fdc9e9f8",
   "metadata": {},
   "outputs": [
    {
     "data": {
      "text/plain": [
       "6"
      ]
     },
     "execution_count": 7,
     "metadata": {},
     "output_type": "execute_result"
    }
   ],
   "source": [
    "i //= 2\n",
    "i"
   ]
  },
  {
   "cell_type": "code",
   "execution_count": 10,
   "id": "b8a94d33",
   "metadata": {},
   "outputs": [
    {
     "data": {
      "text/plain": [
       "1.0"
      ]
     },
     "execution_count": 10,
     "metadata": {},
     "output_type": "execute_result"
    }
   ],
   "source": [
    "i%=3\n",
    "i"
   ]
  },
  {
   "cell_type": "code",
   "execution_count": 11,
   "id": "cfe0ea58",
   "metadata": {},
   "outputs": [],
   "source": [
    "contador=1"
   ]
  },
  {
   "cell_type": "code",
   "execution_count": 12,
   "id": "f9d366e7",
   "metadata": {},
   "outputs": [],
   "source": [
    "contador = contador + 1"
   ]
  },
  {
   "cell_type": "code",
   "execution_count": 13,
   "id": "0c60c292",
   "metadata": {},
   "outputs": [
    {
     "data": {
      "text/plain": [
       "2"
      ]
     },
     "execution_count": 13,
     "metadata": {},
     "output_type": "execute_result"
    }
   ],
   "source": [
    "contador"
   ]
  },
  {
   "cell_type": "code",
   "execution_count": 14,
   "id": "a5551339",
   "metadata": {},
   "outputs": [
    {
     "data": {
      "text/plain": [
       "3"
      ]
     },
     "execution_count": 14,
     "metadata": {},
     "output_type": "execute_result"
    }
   ],
   "source": [
    "contador +=1\n",
    "contador"
   ]
  },
  {
   "cell_type": "markdown",
   "id": "a2502e80",
   "metadata": {},
   "source": [
    "# Parte 2"
   ]
  },
  {
   "cell_type": "code",
   "execution_count": 1,
   "id": "8a1e3091",
   "metadata": {},
   "outputs": [
    {
     "data": {
      "text/plain": [
       "False"
      ]
     },
     "execution_count": 1,
     "metadata": {},
     "output_type": "execute_result"
    }
   ],
   "source": [
    "1==2 #Evalúa una igualdad"
   ]
  },
  {
   "cell_type": "code",
   "execution_count": 2,
   "id": "aa6fd3d3",
   "metadata": {},
   "outputs": [
    {
     "data": {
      "text/plain": [
       "True"
      ]
     },
     "execution_count": 2,
     "metadata": {},
     "output_type": "execute_result"
    }
   ],
   "source": [
    "1<2 #>, <, <=, >="
   ]
  },
  {
   "cell_type": "code",
   "execution_count": 3,
   "id": "474a3d3b",
   "metadata": {},
   "outputs": [
    {
     "data": {
      "text/plain": [
       "True"
      ]
     },
     "execution_count": 3,
     "metadata": {},
     "output_type": "execute_result"
    }
   ],
   "source": [
    "1!=2 #Evalúar una diferencia"
   ]
  },
  {
   "cell_type": "code",
   "execution_count": 8,
   "id": "084217f5",
   "metadata": {},
   "outputs": [],
   "source": [
    "valor=1"
   ]
  },
  {
   "cell_type": "code",
   "execution_count": 4,
   "id": "b7397129",
   "metadata": {},
   "outputs": [],
   "source": [
    "cadena1, cadena2 = \"Hola\", \"Adiós\"\n",
    "lista1, lista2 = [3,\"Bienvenido\",23], [True,\"Gracias por su visita\"]"
   ]
  },
  {
   "cell_type": "code",
   "execution_count": 5,
   "id": "b40d4163",
   "metadata": {},
   "outputs": [],
   "source": [
    "c_cadenas= cadena1==cadena2"
   ]
  },
  {
   "cell_type": "code",
   "execution_count": 6,
   "id": "0cebce57",
   "metadata": {},
   "outputs": [
    {
     "data": {
      "text/plain": [
       "False"
      ]
     },
     "execution_count": 6,
     "metadata": {},
     "output_type": "execute_result"
    }
   ],
   "source": [
    "c_cadenas"
   ]
  },
  {
   "cell_type": "code",
   "execution_count": 7,
   "id": "103f9a9a",
   "metadata": {},
   "outputs": [
    {
     "data": {
      "text/plain": [
       "False"
      ]
     },
     "execution_count": 7,
     "metadata": {},
     "output_type": "execute_result"
    }
   ],
   "source": [
    "c_listas= lista1==lista2\n",
    "c_listas"
   ]
  },
  {
   "cell_type": "code",
   "execution_count": 8,
   "id": "2f320e0a",
   "metadata": {},
   "outputs": [],
   "source": [
    "a,b,c=\"Hola\",\"Mundo\",\" \""
   ]
  },
  {
   "cell_type": "code",
   "execution_count": 11,
   "id": "a03ec720",
   "metadata": {},
   "outputs": [
    {
     "data": {
      "text/plain": [
       "'Hola Mundo'"
      ]
     },
     "execution_count": 11,
     "metadata": {},
     "output_type": "execute_result"
    }
   ],
   "source": [
    "a+c+b"
   ]
  },
  {
   "cell_type": "code",
   "execution_count": 12,
   "id": "126f9e76",
   "metadata": {},
   "outputs": [
    {
     "data": {
      "text/plain": [
       "'HolaHolaHola Mundo'"
      ]
     },
     "execution_count": 12,
     "metadata": {},
     "output_type": "execute_result"
    }
   ],
   "source": [
    "a*3+c+b"
   ]
  },
  {
   "cell_type": "code",
   "execution_count": 9,
   "id": "2e8c573f",
   "metadata": {},
   "outputs": [],
   "source": [
    "d=\"Marco Antonio\"\n",
    "#  0123456789"
   ]
  },
  {
   "cell_type": "code",
   "execution_count": 10,
   "id": "bc26a787",
   "metadata": {},
   "outputs": [
    {
     "data": {
      "text/plain": [
       "'Marco Antonio'"
      ]
     },
     "execution_count": 10,
     "metadata": {},
     "output_type": "execute_result"
    }
   ],
   "source": [
    "d"
   ]
  },
  {
   "cell_type": "code",
   "execution_count": 14,
   "id": "32f06029",
   "metadata": {},
   "outputs": [
    {
     "data": {
      "text/plain": [
       "'Anto'"
      ]
     },
     "execution_count": 14,
     "metadata": {},
     "output_type": "execute_result"
    }
   ],
   "source": [
    "ult_letras=d[6:10] \n",
    "ult_letras"
   ]
  },
  {
   "cell_type": "code",
   "execution_count": 12,
   "id": "65c5454a",
   "metadata": {},
   "outputs": [
    {
     "data": {
      "text/plain": [
       "True"
      ]
     },
     "execution_count": 12,
     "metadata": {},
     "output_type": "execute_result"
    }
   ],
   "source": [
    "ult_letras!=d"
   ]
  },
  {
   "cell_type": "code",
   "execution_count": 13,
   "id": "6dac1f2a",
   "metadata": {},
   "outputs": [
    {
     "data": {
      "text/plain": [
       "False"
      ]
     },
     "execution_count": 13,
     "metadata": {},
     "output_type": "execute_result"
    }
   ],
   "source": [
    "ult_letras==d"
   ]
  },
  {
   "cell_type": "code",
   "execution_count": 20,
   "id": "efe5cf74",
   "metadata": {},
   "outputs": [
    {
     "name": "stdout",
     "output_type": "stream",
     "text": [
      "Mi edad es 12.0\n"
     ]
    }
   ],
   "source": [
    "edad=24/2\n",
    "print(\"Mi edad es\", edad)"
   ]
  },
  {
   "cell_type": "code",
   "execution_count": 24,
   "id": "79aa8c9d",
   "metadata": {},
   "outputs": [],
   "source": [
    "import numpy as np"
   ]
  },
  {
   "cell_type": "code",
   "execution_count": 25,
   "id": "3c4dc04c",
   "metadata": {},
   "outputs": [
    {
     "data": {
      "text/plain": [
       "array([1, 2, 3, 4, 5, 6, 7])"
      ]
     },
     "execution_count": 25,
     "metadata": {},
     "output_type": "execute_result"
    }
   ],
   "source": [
    "a=np.array([1,2,3,4,5,6,7])\n",
    "a"
   ]
  },
  {
   "cell_type": "code",
   "execution_count": 26,
   "id": "12f361d6",
   "metadata": {},
   "outputs": [
    {
     "data": {
      "text/plain": [
       "array([False, False, False,  True,  True,  True,  True])"
      ]
     },
     "execution_count": 26,
     "metadata": {},
     "output_type": "execute_result"
    }
   ],
   "source": [
    "mascara = a>3\n",
    "mascara"
   ]
  },
  {
   "cell_type": "code",
   "execution_count": 27,
   "id": "a723426e",
   "metadata": {},
   "outputs": [
    {
     "data": {
      "text/plain": [
       "array([1, 2, 3, 4, 5, 6, 7])"
      ]
     },
     "execution_count": 27,
     "metadata": {},
     "output_type": "execute_result"
    }
   ],
   "source": [
    "a"
   ]
  },
  {
   "cell_type": "code",
   "execution_count": null,
   "id": "a7010ab0",
   "metadata": {},
   "outputs": [],
   "source": []
  }
 ],
 "metadata": {
  "kernelspec": {
   "display_name": "Python 3",
   "language": "python",
   "name": "python3"
  },
  "language_info": {
   "codemirror_mode": {
    "name": "ipython",
    "version": 3
   },
   "file_extension": ".py",
   "mimetype": "text/x-python",
   "name": "python",
   "nbconvert_exporter": "python",
   "pygments_lexer": "ipython3",
   "version": "3.6.13"
  }
 },
 "nbformat": 4,
 "nbformat_minor": 5
}
