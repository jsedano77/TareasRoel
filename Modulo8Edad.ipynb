{
 "cells": [
  {
   "cell_type": "code",
   "execution_count": 1,
   "id": "e1f27817",
   "metadata": {},
   "outputs": [],
   "source": [
    "#1.-El doble de mi edad tiene 24 años, ¿cuántos años tengo?\n",
    "\n",
    "#2.- A un tercio de la edad de mi hermana la disminuyo en 15 años. Tengo 6  años. ¿Qué edad tiene?\n",
    "\n",
    "#3.-Determina quién es más grande\n"
   ]
  },
  {
   "cell_type": "code",
   "execution_count": 14,
   "id": "f8cf7f56",
   "metadata": {},
   "outputs": [],
   "source": [
    "x=24"
   ]
  },
  {
   "cell_type": "code",
   "execution_count": 15,
   "id": "d6fd7344",
   "metadata": {},
   "outputs": [],
   "source": [
    "y=2"
   ]
  },
  {
   "cell_type": "code",
   "execution_count": 18,
   "id": "85247586",
   "metadata": {},
   "outputs": [],
   "source": [
    "x/=y"
   ]
  },
  {
   "cell_type": "code",
   "execution_count": 19,
   "id": "26c32b3e",
   "metadata": {},
   "outputs": [
    {
     "data": {
      "text/plain": [
       "12.0"
      ]
     },
     "execution_count": 19,
     "metadata": {},
     "output_type": "execute_result"
    }
   ],
   "source": [
    "x"
   ]
  },
  {
   "cell_type": "code",
   "execution_count": 20,
   "id": "b11c53bb",
   "metadata": {},
   "outputs": [],
   "source": [
    "h=15"
   ]
  },
  {
   "cell_type": "code",
   "execution_count": 21,
   "id": "71b4ec31",
   "metadata": {},
   "outputs": [],
   "source": [
    "i=3"
   ]
  },
  {
   "cell_type": "code",
   "execution_count": null,
   "id": "45298899",
   "metadata": {},
   "outputs": [],
   "source": [
    "6=x-15"
   ]
  }
 ],
 "metadata": {
  "kernelspec": {
   "display_name": "Python 3 (ipykernel)",
   "language": "python",
   "name": "python3"
  },
  "language_info": {
   "codemirror_mode": {
    "name": "ipython",
    "version": 3
   },
   "file_extension": ".py",
   "mimetype": "text/x-python",
   "name": "python",
   "nbconvert_exporter": "python",
   "pygments_lexer": "ipython3",
   "version": "3.9.13"
  }
 },
 "nbformat": 4,
 "nbformat_minor": 5
}
