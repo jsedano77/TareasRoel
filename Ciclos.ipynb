{
 "cells": [
  {
   "cell_type": "markdown",
   "id": "f14cade2",
   "metadata": {},
   "source": [
    "# IF"
   ]
  },
  {
   "cell_type": "code",
   "execution_count": 38,
   "id": "fce63e33",
   "metadata": {},
   "outputs": [],
   "source": [
    "a=5"
   ]
  },
  {
   "cell_type": "code",
   "execution_count": 39,
   "id": "639764f0",
   "metadata": {},
   "outputs": [],
   "source": [
    "if a==3:    \n",
    "    a=a*3\n",
    "    print(a)"
   ]
  },
  {
   "cell_type": "code",
   "execution_count": 40,
   "id": "c71067e8",
   "metadata": {},
   "outputs": [],
   "source": [
    "a=3"
   ]
  },
  {
   "cell_type": "code",
   "execution_count": 41,
   "id": "25abd521",
   "metadata": {},
   "outputs": [
    {
     "name": "stdout",
     "output_type": "stream",
     "text": [
      "9\n"
     ]
    }
   ],
   "source": [
    "if a==3:\n",
    "    a=a*3\n",
    "    print(a)"
   ]
  },
  {
   "cell_type": "code",
   "execution_count": 42,
   "id": "58d25cfb",
   "metadata": {},
   "outputs": [],
   "source": [
    "a=1"
   ]
  },
  {
   "cell_type": "code",
   "execution_count": 43,
   "id": "05c95f3d",
   "metadata": {},
   "outputs": [
    {
     "name": "stdout",
     "output_type": "stream",
     "text": [
      "1\n"
     ]
    }
   ],
   "source": [
    "if a==3:\n",
    "    a=a*3\n",
    "    print(a)\n",
    "elif a>10:\n",
    "    a%=2\n",
    "    print(a)\n",
    "else:\n",
    "    print(a)"
   ]
  },
  {
   "cell_type": "code",
   "execution_count": 46,
   "id": "6f385f2b",
   "metadata": {},
   "outputs": [],
   "source": [
    "animal=[\"leon\", \"perro\", \"gato\", \"tigre\", \"toro\", \"murciélago\"]"
   ]
  },
  {
   "cell_type": "code",
   "execution_count": 47,
   "id": "80abf84b",
   "metadata": {},
   "outputs": [
    {
     "name": "stdout",
     "output_type": "stream",
     "text": [
      "El primer animal es leon, su longitud es 4\n"
     ]
    }
   ],
   "source": [
    "#print(animal)\n",
    "#print(\"El primer animal es\", animal)\n",
    "print(\"El primer animal es {0}, su longitud es {1}\".format(animal[0],len(animal[0])))\n",
    "#                                                           variable{0},variable{1}"
   ]
  },
  {
   "cell_type": "code",
   "execution_count": 15,
   "id": "90dd2484",
   "metadata": {},
   "outputs": [],
   "source": [
    "edad1=10"
   ]
  },
  {
   "cell_type": "code",
   "execution_count": 16,
   "id": "929779a3",
   "metadata": {},
   "outputs": [
    {
     "name": "stdout",
     "output_type": "stream",
     "text": [
      "Eres menor de edad\n"
     ]
    }
   ],
   "source": [
    "if edad1>=18:\n",
    "    print(\"Eres mayor de edad\")\n",
    "elif edad1<18:\n",
    "    print(\"Eres menor de edad\")"
   ]
  },
  {
   "cell_type": "code",
   "execution_count": 48,
   "id": "86cffa25",
   "metadata": {},
   "outputs": [
    {
     "name": "stdout",
     "output_type": "stream",
     "text": [
      "Por favor, escriba su edad en números enteros23\n",
      "Eres mayor de edad\n"
     ]
    }
   ],
   "source": [
    "edad= float(input(\"Por favor, escriba su edad en números enteros\"))\n",
    "if edad>=18:\n",
    "    print(\"Eres mayor de edad\")\n",
    "elif edad<18:\n",
    "    print(\"Eres menor de edad\")"
   ]
  },
  {
   "cell_type": "code",
   "execution_count": null,
   "id": "0c71d4bd",
   "metadata": {},
   "outputs": [],
   "source": []
  },
  {
   "cell_type": "code",
   "execution_count": null,
   "id": "a166b813",
   "metadata": {},
   "outputs": [],
   "source": []
  },
  {
   "cell_type": "code",
   "execution_count": null,
   "id": "7a72c20e",
   "metadata": {},
   "outputs": [],
   "source": []
  },
  {
   "cell_type": "code",
   "execution_count": null,
   "id": "84ab251f",
   "metadata": {},
   "outputs": [],
   "source": []
  },
  {
   "cell_type": "code",
   "execution_count": 2,
   "id": "92df4e93",
   "metadata": {},
   "outputs": [
    {
     "name": "stdout",
     "output_type": "stream",
     "text": [
      "Por favor, ingrese el primer número a comparar: 7.8\n",
      "Por favor, ingrese el segundo número a comparar: 9.7\n",
      "El segundo número es mayor 9.7\n"
     ]
    }
   ],
   "source": [
    "a=float(input('Por favor, ingrese el primer número a comparar: '))\n",
    "b=float(input('Por favor, ingrese el segundo número a comparar: '))\n",
    "if a==b:\n",
    "    print('Ambos números son iguales')\n",
    "elif a>b:\n",
    "    print('El primer número que es igual a {0} es mayor al segundo que es igual a {1}'.format(a,b))\n",
    "elif a<b:\n",
    "    print('El segundo número es mayor', b)"
   ]
  },
  {
   "cell_type": "markdown",
   "id": "ba56c64e",
   "metadata": {},
   "source": [
    "# For"
   ]
  },
  {
   "cell_type": "code",
   "execution_count": 3,
   "id": "fd11367a",
   "metadata": {},
   "outputs": [],
   "source": [
    "numeros=[1,2,3,4,5,6,7]"
   ]
  },
  {
   "cell_type": "code",
   "execution_count": 49,
   "id": "14794528",
   "metadata": {},
   "outputs": [
    {
     "data": {
      "text/plain": [
       "[1, 2, 3, 4, 5, 6, 7]"
      ]
     },
     "execution_count": 49,
     "metadata": {},
     "output_type": "execute_result"
    }
   ],
   "source": [
    "# numeros[0]\n",
    "# numeros[1]\n",
    "numeros"
   ]
  },
  {
   "cell_type": "code",
   "execution_count": 51,
   "id": "ce3427be",
   "metadata": {},
   "outputs": [
    {
     "name": "stdout",
     "output_type": "stream",
     "text": [
      "1\n",
      "2\n",
      "3\n",
      "4\n",
      "5\n",
      "6\n",
      "7\n"
     ]
    }
   ],
   "source": [
    "for n in numeros:\n",
    "    print(n)"
   ]
  },
  {
   "cell_type": "code",
   "execution_count": 7,
   "id": "5203b544",
   "metadata": {},
   "outputs": [
    {
     "name": "stdout",
     "output_type": "stream",
     "text": [
      "A\n",
      "B\n",
      "C\n"
     ]
    }
   ],
   "source": [
    "diccionario={\"A\":2,\"B\":3,\"C\":4}\n",
    "for k in diccionario:\n",
    "    print(k)"
   ]
  },
  {
   "cell_type": "code",
   "execution_count": 8,
   "id": "eb11e264",
   "metadata": {},
   "outputs": [
    {
     "name": "stdout",
     "output_type": "stream",
     "text": [
      "2\n",
      "3\n",
      "4\n"
     ]
    }
   ],
   "source": [
    "for v in diccionario.values():\n",
    "    print(v)"
   ]
  },
  {
   "cell_type": "code",
   "execution_count": 55,
   "id": "72eaaaf0",
   "metadata": {},
   "outputs": [
    {
     "name": "stdout",
     "output_type": "stream",
     "text": [
      "El key es:  A \n",
      "El valor es:  2 \n",
      "\n",
      "\n",
      "El key es:  B \n",
      "El valor es:  3 \n",
      "\n",
      "\n",
      "El key es:  C \n",
      "El valor es:  4 \n",
      "\n",
      "\n"
     ]
    }
   ],
   "source": [
    "for k,v in diccionario.items():\n",
    "    print(\"El key es: \",k,\"\\nEl valor es: \",v,\"\\n\\n\")"
   ]
  },
  {
   "cell_type": "code",
   "execution_count": 11,
   "id": "846a1c46",
   "metadata": {},
   "outputs": [
    {
     "name": "stdout",
     "output_type": "stream",
     "text": [
      "0\n",
      "2\n",
      "4\n",
      "6\n",
      "8\n",
      "10\n",
      "12\n",
      "14\n",
      "16\n",
      "18\n"
     ]
    }
   ],
   "source": [
    "for e in range(0,20,2): #(Inicio,Fin-1,Paso o diferencia)\n",
    "    print(e)"
   ]
  },
  {
   "cell_type": "code",
   "execution_count": 56,
   "id": "be96b8db",
   "metadata": {},
   "outputs": [],
   "source": [
    "r=list(range(0,20,2))"
   ]
  },
  {
   "cell_type": "code",
   "execution_count": 57,
   "id": "42b011b9",
   "metadata": {},
   "outputs": [
    {
     "data": {
      "text/plain": [
       "[0, 2, 4, 6, 8, 10, 12, 14, 16, 18]"
      ]
     },
     "execution_count": 57,
     "metadata": {},
     "output_type": "execute_result"
    }
   ],
   "source": [
    "r"
   ]
  },
  {
   "cell_type": "code",
   "execution_count": 23,
   "id": "4cd82c91",
   "metadata": {},
   "outputs": [
    {
     "data": {
      "text/plain": [
       "[1, 2, 3, 4, 5, 6, 7]"
      ]
     },
     "execution_count": 23,
     "metadata": {},
     "output_type": "execute_result"
    }
   ],
   "source": [
    "numeros"
   ]
  },
  {
   "cell_type": "code",
   "execution_count": 58,
   "id": "f8cf6d11",
   "metadata": {},
   "outputs": [
    {
     "name": "stdout",
     "output_type": "stream",
     "text": [
      "1\n",
      "2\n",
      "3\n",
      "4\n"
     ]
    }
   ],
   "source": [
    "for n in numeros:\n",
    "    if n==5:\n",
    "        break\n",
    "    print(n)"
   ]
  },
  {
   "cell_type": "code",
   "execution_count": 25,
   "id": "12083153",
   "metadata": {},
   "outputs": [
    {
     "name": "stdout",
     "output_type": "stream",
     "text": [
      "1\n",
      "2\n",
      "3\n",
      "4\n",
      "6\n",
      "7\n"
     ]
    }
   ],
   "source": [
    "for n in numeros:\n",
    "    if n==5:\n",
    "        continue\n",
    "    print(n)"
   ]
  },
  {
   "cell_type": "code",
   "execution_count": 29,
   "id": "25562f9c",
   "metadata": {},
   "outputs": [],
   "source": [
    "dict={\"Miguel\":18,\"Edwin\":23,\"Erick\":28,\"Pedro\":16,\"Pau\":25,\"Liliana\":20,\"Marco\":25,\"Claudia\":21,\"Roland\":25,\"Gerardo\":9,\"Jonathan\":15}"
   ]
  },
  {
   "cell_type": "code",
   "execution_count": 30,
   "id": "01f7ab4e",
   "metadata": {},
   "outputs": [
    {
     "name": "stdout",
     "output_type": "stream",
     "text": [
      "El valor máximo es  28\n"
     ]
    }
   ],
   "source": [
    "i=0\n",
    "j=0\n",
    "v=0\n",
    "for i,j in dict.items():\n",
    "    if j==v:\n",
    "        v=j\n",
    "    elif j<=v:\n",
    "        pass\n",
    "    elif j>=v:\n",
    "        v=j\n",
    "print('El valor máximo es ',d)"
   ]
  },
  {
   "cell_type": "markdown",
   "id": "98fa6694",
   "metadata": {},
   "source": [
    "# While"
   ]
  },
  {
   "cell_type": "code",
   "execution_count": 8,
   "id": "3a9b76ad",
   "metadata": {},
   "outputs": [
    {
     "name": "stdout",
     "output_type": "stream",
     "text": [
      "Escribe un número positivo: 6\n",
      "Número positivo, gracias!\n"
     ]
    }
   ],
   "source": [
    "numero=int(input(\"Escribe un número positivo: \"))\n",
    "while numero<0:\n",
    "    print(\"El número escrito no es positivo, intente de nuevo\")\n",
    "    numero=int(input(\"Escribe un número positivo: \"))\n",
    "print(\"Número positivo, gracias!\")"
   ]
  },
  {
   "cell_type": "code",
   "execution_count": 9,
   "id": "23d7e645",
   "metadata": {},
   "outputs": [
    {
     "name": "stdout",
     "output_type": "stream",
     "text": [
      "La suma es 55\n"
     ]
    }
   ],
   "source": [
    "numero_0=1\n",
    "numero_1=0 #Resultado de suma\n",
    "while numero_0 <=10:\n",
    "    numero_1= numero_0 + numero_1\n",
    "    numero_0= numero_0 + 1\n",
    "print(\"La suma es \" + str(numero_1))"
   ]
  },
  {
   "cell_type": "code",
   "execution_count": 10,
   "id": "da12d24b",
   "metadata": {},
   "outputs": [
    {
     "data": {
      "text/plain": [
       "11"
      ]
     },
     "execution_count": 10,
     "metadata": {},
     "output_type": "execute_result"
    }
   ],
   "source": [
    "numero_0"
   ]
  },
  {
   "cell_type": "code",
   "execution_count": 11,
   "id": "d505bf4f",
   "metadata": {},
   "outputs": [
    {
     "data": {
      "text/plain": [
       "55"
      ]
     },
     "execution_count": 11,
     "metadata": {},
     "output_type": "execute_result"
    }
   ],
   "source": [
    "numero_1"
   ]
  },
  {
   "cell_type": "code",
   "execution_count": 12,
   "id": "4194e3c1",
   "metadata": {
    "scrolled": true
   },
   "outputs": [
    {
     "name": "stdout",
     "output_type": "stream",
     "text": [
      "Ingrese la nota del estudiante (-1 para salir):\n",
      "8.4\n",
      "Ingrese la nota del estudiante (-1 para salir):6\n",
      "Ingrese la nota del estudiante (-1 para salir):7.5\n",
      "Ingrese la nota del estudiante (-1 para salir):10\n",
      "Ingrese la nota del estudiante (-1 para salir):0\n",
      "Ingrese la nota del estudiante (-1 para salir):-1\n",
      "El pomedio de las notas del estudiante es:6.38\n"
     ]
    }
   ],
   "source": [
    "total=0\n",
    "conteo=0\n",
    "print(\"Ingrese la nota del estudiante (-1 para salir):\")\n",
    "grado = float(input())\n",
    "while grado !=-1:\n",
    "    total= total+grado\n",
    "    conteo = conteo + 1\n",
    "    grado=float(input(\"Ingrese la nota del estudiante (-1 para salir):\"))\n",
    "promedio=total/conteo\n",
    "print(\"El pomedio de las notas del estudiante es:\" + str(promedio))"
   ]
  },
  {
   "cell_type": "markdown",
   "id": "907ff4b7",
   "metadata": {},
   "source": [
    "# Definir una función"
   ]
  },
  {
   "cell_type": "code",
   "execution_count": 13,
   "id": "cf5a72a2",
   "metadata": {},
   "outputs": [],
   "source": [
    "def resta(valor1,valor2):\n",
    "    return valor1-valor2"
   ]
  },
  {
   "cell_type": "code",
   "execution_count": 14,
   "id": "4e0b96da",
   "metadata": {},
   "outputs": [
    {
     "data": {
      "text/plain": [
       "40"
      ]
     },
     "execution_count": 14,
     "metadata": {},
     "output_type": "execute_result"
    }
   ],
   "source": [
    "resta(50,10)"
   ]
  },
  {
   "cell_type": "code",
   "execution_count": 15,
   "id": "95edab00",
   "metadata": {},
   "outputs": [
    {
     "ename": "TypeError",
     "evalue": "resta() missing 1 required positional argument: 'valor2'",
     "output_type": "error",
     "traceback": [
      "\u001b[1;31m---------------------------------------------------------------------------\u001b[0m",
      "\u001b[1;31mTypeError\u001b[0m                                 Traceback (most recent call last)",
      "\u001b[1;32m<ipython-input-15-bc4c1a4bc0bb>\u001b[0m in \u001b[0;36m<module>\u001b[1;34m\u001b[0m\n\u001b[1;32m----> 1\u001b[1;33m \u001b[0mresta\u001b[0m\u001b[1;33m(\u001b[0m\u001b[1;36m50\u001b[0m\u001b[1;33m,\u001b[0m\u001b[1;33m)\u001b[0m\u001b[1;33m\u001b[0m\u001b[1;33m\u001b[0m\u001b[0m\n\u001b[0m",
      "\u001b[1;31mTypeError\u001b[0m: resta() missing 1 required positional argument: 'valor2'"
     ]
    }
   ],
   "source": [
    "resta(50,)"
   ]
  },
  {
   "cell_type": "code",
   "execution_count": 16,
   "id": "6c0fd948",
   "metadata": {},
   "outputs": [],
   "source": [
    "def resta1 (a=None, b=None):\n",
    "    if a==None or b==None:\n",
    "        print(\"La F necesita dos números\")\n",
    "        return\n",
    "    return a-b"
   ]
  },
  {
   "cell_type": "code",
   "execution_count": 17,
   "id": "e6ff5d8f",
   "metadata": {},
   "outputs": [
    {
     "name": "stdout",
     "output_type": "stream",
     "text": [
      "La F necesita dos números\n"
     ]
    }
   ],
   "source": [
    "resta1(20,)"
   ]
  },
  {
   "cell_type": "code",
   "execution_count": null,
   "id": "4b1de2da",
   "metadata": {},
   "outputs": [],
   "source": []
  }
 ],
 "metadata": {
  "kernelspec": {
   "display_name": "Python 3",
   "language": "python",
   "name": "python3"
  },
  "language_info": {
   "codemirror_mode": {
    "name": "ipython",
    "version": 3
   },
   "file_extension": ".py",
   "mimetype": "text/x-python",
   "name": "python",
   "nbconvert_exporter": "python",
   "pygments_lexer": "ipython3",
   "version": "3.6.13"
  }
 },
 "nbformat": 4,
 "nbformat_minor": 5
}
