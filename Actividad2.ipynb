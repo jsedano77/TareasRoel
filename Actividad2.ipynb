{
 "cells": [
  {
   "cell_type": "markdown",
   "id": "6bbcabf9",
   "metadata": {},
   "source": [
    "# Actividad 2"
   ]
  },
  {
   "cell_type": "code",
   "execution_count": 1,
   "id": "d6e64114",
   "metadata": {},
   "outputs": [],
   "source": [
    "mitupla = (\"Monterrey\",True,2023,\"Abril\",10)"
   ]
  },
  {
   "cell_type": "code",
   "execution_count": 2,
   "id": "8a0bd619",
   "metadata": {},
   "outputs": [
    {
     "data": {
      "text/plain": [
       "tuple"
      ]
     },
     "execution_count": 2,
     "metadata": {},
     "output_type": "execute_result"
    }
   ],
   "source": [
    "type(mitupla)"
   ]
  },
  {
   "cell_type": "code",
   "execution_count": 4,
   "id": "5a7d7569",
   "metadata": {},
   "outputs": [],
   "source": [
    "milista = list(mitupla)"
   ]
  },
  {
   "cell_type": "code",
   "execution_count": 5,
   "id": "801d1c49",
   "metadata": {},
   "outputs": [
    {
     "data": {
      "text/plain": [
       "list"
      ]
     },
     "execution_count": 5,
     "metadata": {},
     "output_type": "execute_result"
    }
   ],
   "source": [
    "type(milista)"
   ]
  },
  {
   "cell_type": "code",
   "execution_count": 7,
   "id": "5c67c180",
   "metadata": {},
   "outputs": [
    {
     "data": {
      "text/plain": [
       "['Monterrey', True, 2023, 'Abril', 10]"
      ]
     },
     "execution_count": 7,
     "metadata": {},
     "output_type": "execute_result"
    }
   ],
   "source": [
    "milista"
   ]
  },
  {
   "cell_type": "code",
   "execution_count": 8,
   "id": "9db09a1a",
   "metadata": {},
   "outputs": [],
   "source": [
    "mikey = (1,2,3,4,5)"
   ]
  },
  {
   "cell_type": "code",
   "execution_count": 9,
   "id": "ac48b409",
   "metadata": {},
   "outputs": [
    {
     "data": {
      "text/plain": [
       "tuple"
      ]
     },
     "execution_count": 9,
     "metadata": {},
     "output_type": "execute_result"
    }
   ],
   "source": [
    "type(mikey)"
   ]
  },
  {
   "cell_type": "code",
   "execution_count": 10,
   "id": "49d444d3",
   "metadata": {},
   "outputs": [],
   "source": [
    "mikeylist = list(mikey)"
   ]
  },
  {
   "cell_type": "code",
   "execution_count": 12,
   "id": "78d03246",
   "metadata": {},
   "outputs": [
    {
     "data": {
      "text/plain": [
       "list"
      ]
     },
     "execution_count": 12,
     "metadata": {},
     "output_type": "execute_result"
    }
   ],
   "source": [
    "type(mikeylist)"
   ]
  },
  {
   "cell_type": "code",
   "execution_count": 18,
   "id": "bf086dfd",
   "metadata": {},
   "outputs": [],
   "source": [
    "midiccionario = {}\n",
    "for key in mikeylist:\n",
    "        for value in milista:\n",
    "            midiccionario[key] = value\n",
    "            milista.remove(value)\n",
    "            break"
   ]
  },
  {
   "cell_type": "code",
   "execution_count": null,
   "id": "d4ebc198",
   "metadata": {},
   "outputs": [],
   "source": []
  },
  {
   "cell_type": "code",
   "execution_count": 19,
   "id": "5258edbf",
   "metadata": {},
   "outputs": [
    {
     "name": "stdout",
     "output_type": "stream",
     "text": [
      "Resultado midiccionario: {1: 'Monterrey', 2: True, 3: 2023, 4: 'Abril', 5: 10}\n"
     ]
    }
   ],
   "source": [
    "print(\"Resultado midiccionario: \" + str(midiccionario))"
   ]
  },
  {
   "cell_type": "code",
   "execution_count": null,
   "id": "98405719",
   "metadata": {},
   "outputs": [],
   "source": []
  }
 ],
 "metadata": {
  "kernelspec": {
   "display_name": "Python 3 (ipykernel)",
   "language": "python",
   "name": "python3"
  },
  "language_info": {
   "codemirror_mode": {
    "name": "ipython",
    "version": 3
   },
   "file_extension": ".py",
   "mimetype": "text/x-python",
   "name": "python",
   "nbconvert_exporter": "python",
   "pygments_lexer": "ipython3",
   "version": "3.9.13"
  }
 },
 "nbformat": 4,
 "nbformat_minor": 5
}
