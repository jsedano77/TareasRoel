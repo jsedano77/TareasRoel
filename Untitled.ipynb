{
 "cells": [
  {
   "cell_type": "markdown",
   "id": "3654b2f9",
   "metadata": {},
   "source": [
    "# Actividad 2"
   ]
  },
  {
   "cell_type": "code",
   "execution_count": 1,
   "id": "9a2a9d58",
   "metadata": {},
   "outputs": [],
   "source": [
    "mitupla = (\"Monterrey\",True,2023,\"Abril\",10)"
   ]
  },
  {
   "cell_type": "code",
   "execution_count": 2,
   "id": "419513da",
   "metadata": {},
   "outputs": [
    {
     "data": {
      "text/plain": [
       "tuple"
      ]
     },
     "execution_count": 2,
     "metadata": {},
     "output_type": "execute_result"
    }
   ],
   "source": [
    "type(mitupla)"
   ]
  },
  {
   "cell_type": "code",
   "execution_count": 4,
   "id": "b5a1cbfd",
   "metadata": {},
   "outputs": [],
   "source": [
    "milista = list(mitupla)"
   ]
  },
  {
   "cell_type": "code",
   "execution_count": 5,
   "id": "1db4ac4e",
   "metadata": {},
   "outputs": [
    {
     "data": {
      "text/plain": [
       "list"
      ]
     },
     "execution_count": 5,
     "metadata": {},
     "output_type": "execute_result"
    }
   ],
   "source": [
    "type(milista)"
   ]
  },
  {
   "cell_type": "code",
   "execution_count": 7,
   "id": "dd36be4e",
   "metadata": {},
   "outputs": [
    {
     "data": {
      "text/plain": [
       "['Monterrey', True, 2023, 'Abril', 10]"
      ]
     },
     "execution_count": 7,
     "metadata": {},
     "output_type": "execute_result"
    }
   ],
   "source": [
    "milista"
   ]
  },
  {
   "cell_type": "code",
   "execution_count": 8,
   "id": "7dcbe947",
   "metadata": {},
   "outputs": [],
   "source": [
    "mikey = (1,2,3,4,5)"
   ]
  },
  {
   "cell_type": "code",
   "execution_count": 9,
   "id": "9f2f00b4",
   "metadata": {},
   "outputs": [
    {
     "data": {
      "text/plain": [
       "tuple"
      ]
     },
     "execution_count": 9,
     "metadata": {},
     "output_type": "execute_result"
    }
   ],
   "source": [
    "type(mikey)"
   ]
  },
  {
   "cell_type": "code",
   "execution_count": 10,
   "id": "fd170542",
   "metadata": {},
   "outputs": [],
   "source": [
    "mikeylist = list(mikey)"
   ]
  },
  {
   "cell_type": "code",
   "execution_count": 12,
   "id": "8d6161a8",
   "metadata": {},
   "outputs": [
    {
     "data": {
      "text/plain": [
       "list"
      ]
     },
     "execution_count": 12,
     "metadata": {},
     "output_type": "execute_result"
    }
   ],
   "source": [
    "type(mikeylist)"
   ]
  },
  {
   "cell_type": "code",
   "execution_count": 18,
   "id": "f251b427",
   "metadata": {},
   "outputs": [],
   "source": [
    "midiccionario = {}\n",
    "for key in mikeylist:\n",
    "        for value in milista:\n",
    "            midiccionario[key] = value\n",
    "            milista.remove(value)\n",
    "            break"
   ]
  },
  {
   "cell_type": "code",
   "execution_count": null,
   "id": "e1a28d15",
   "metadata": {},
   "outputs": [],
   "source": []
  },
  {
   "cell_type": "code",
   "execution_count": 19,
   "id": "dfa354b3",
   "metadata": {},
   "outputs": [
    {
     "name": "stdout",
     "output_type": "stream",
     "text": [
      "Resultado midiccionario: {1: 'Monterrey', 2: True, 3: 2023, 4: 'Abril', 5: 10}\n"
     ]
    }
   ],
   "source": [
    "print(\"Resultado midiccionario: \" + str(midiccionario))"
   ]
  },
  {
   "cell_type": "code",
   "execution_count": null,
   "id": "37398d61",
   "metadata": {},
   "outputs": [],
   "source": []
  }
 ],
 "metadata": {
  "kernelspec": {
   "display_name": "Python 3 (ipykernel)",
   "language": "python",
   "name": "python3"
  },
  "language_info": {
   "codemirror_mode": {
    "name": "ipython",
    "version": 3
   },
   "file_extension": ".py",
   "mimetype": "text/x-python",
   "name": "python",
   "nbconvert_exporter": "python",
   "pygments_lexer": "ipython3",
   "version": "3.9.13"
  }
 },
 "nbformat": 4,
 "nbformat_minor": 5
}
