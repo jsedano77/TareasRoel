{
 "cells": [
  {
   "cell_type": "markdown",
   "id": "c60c558b",
   "metadata": {},
   "source": [
    "## Modulo 10 - Actividad 10"
   ]
  },
  {
   "cell_type": "code",
   "execution_count": 1,
   "id": "8c2a2583",
   "metadata": {},
   "outputs": [],
   "source": [
    "# Cada compañero dirá un número. Los guardarás en un diccionario,  junto con el nombre de tu pareja.\n",
    "\n",
    "# Luego imprimirán los valores del diccionario (nombre de la persona  y número que dijo) (Usando un bucle for)\n",
    "\n",
    "# Al ﬁnal imprimirán dos mensajes, mostrando el número más  grande, y el número más pequeño que dijeron, sin el nombre del  socio, sólo el número.\n",
    "\n"
   ]
  },
  {
   "cell_type": "code",
   "execution_count": 6,
   "id": "a54dfe6e",
   "metadata": {},
   "outputs": [
    {
     "name": "stdout",
     "output_type": "stream",
     "text": [
      "Yan escogio el numero 1\n",
      "Day escogio el numero 7\n",
      "Yar escogio el numero 5\n",
      "Rox escogio el numero 9\n",
      "Mel escogio el numero 3\n"
     ]
    }
   ],
   "source": [
    "dictHub=(\"Yan\":1,\"Day\":7,\"Yar\":5,\"Rox\":9,\"Mel\",3)\n",
    "\n",
    "for i,j in dictHub.items():\n",
    "print(\"(0) escogio el numero [1]\".format(i,j))"
   ]
  },
  {
   "cell_type": "markdown",
   "id": "7ab88fee",
   "metadata": {},
   "source": [
    "# Lo vi al final lo creare en visual code o visual studio"
   ]
  },
  {
   "cell_type": "code",
   "execution_count": null,
   "id": "5dc0a76e",
   "metadata": {},
   "outputs": [],
   "source": []
  }
 ],
 "metadata": {
  "kernelspec": {
   "display_name": "Python 3 (ipykernel)",
   "language": "python",
   "name": "python3"
  },
  "language_info": {
   "codemirror_mode": {
    "name": "ipython",
    "version": 3
   },
   "file_extension": ".py",
   "mimetype": "text/x-python",
   "name": "python",
   "nbconvert_exporter": "python",
   "pygments_lexer": "ipython3",
   "version": "3.8.16"
  }
 },
 "nbformat": 4,
 "nbformat_minor": 5
}
