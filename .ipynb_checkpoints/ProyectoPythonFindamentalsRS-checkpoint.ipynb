{
 "cells": [
  {
   "cell_type": "markdown",
   "id": "44a2356b",
   "metadata": {},
   "source": [
    "# Proyecto Python Fundamentals\n",
    "## CitiBike Demo\n",
    "## Se creo un ambiente de Snowflake para el proyecto\n",
    "## El objetivo es conectarnos desde un jupyter a la bd de CitiBike utilizando el framework de snowpark para python y dar visibiliadad al Negocio.\n",
    "### Ref: Curso Python Fundamentals, Zero to snowflake quickstart y Snowpark Developer Guide for Python"
   ]
  },
  {
   "cell_type": "markdown",
   "id": "e526c6e6",
   "metadata": {},
   "source": [
    "## Snowflake"
   ]
  },
  {
   "cell_type": "markdown",
   "id": "9bf53425",
   "metadata": {},
   "source": [
    "<img src=\"snowflake.png\" width=\"615\" height=\"383\">"
   ]
  },
  {
   "cell_type": "markdown",
   "id": "99db8793",
   "metadata": {},
   "source": [
    "## Citibike Demo"
   ]
  },
  {
   "cell_type": "markdown",
   "id": "372e9259",
   "metadata": {},
   "source": [
    "<img src=\"citibike.jpg\" width=\"690\" height=\"358\">"
   ]
  },
  {
   "cell_type": "markdown",
   "id": "4218f68b",
   "metadata": {},
   "source": [
    "### Snowpak Imports"
   ]
  },
  {
   "cell_type": "code",
   "execution_count": 11,
   "id": "a572e69a",
   "metadata": {},
   "outputs": [
    {
     "ename": "ModuleNotFoundError",
     "evalue": "No module named 'request'",
     "output_type": "error",
     "traceback": [
      "\u001b[1;31m---------------------------------------------------------------------------\u001b[0m",
      "\u001b[1;31mModuleNotFoundError\u001b[0m                       Traceback (most recent call last)",
      "Cell \u001b[1;32mIn[11], line 17\u001b[0m\n\u001b[0;32m     13\u001b[0m \u001b[38;5;28;01mfrom\u001b[39;00m \u001b[38;5;21;01mtyping\u001b[39;00m \u001b[38;5;28;01mimport\u001b[39;00m Iterable, Tuple\n\u001b[0;32m     15\u001b[0m \u001b[38;5;28;01mimport\u001b[39;00m \u001b[38;5;21;01mmatplotlib\u001b[39;00m\u001b[38;5;21;01m.\u001b[39;00m\u001b[38;5;21;01mpyplot\u001b[39;00m \u001b[38;5;28;01mas\u001b[39;00m \u001b[38;5;21;01mplt\u001b[39;00m\n\u001b[1;32m---> 17\u001b[0m \u001b[38;5;28;01mimport\u001b[39;00m \u001b[38;5;21;01mrequest\u001b[39;00m \n\u001b[0;32m     18\u001b[0m \u001b[38;5;28;01mfrom\u001b[39;00m \u001b[38;5;21;01mPIL\u001b[39;00m \u001b[38;5;28;01mimport\u001b[39;00m Image\n",
      "\u001b[1;31mModuleNotFoundError\u001b[0m: No module named 'request'"
     ]
    }
   ],
   "source": [
    "# Snowpark Imports\n",
    "import json\n",
    "from decimal import Decimal\n",
    "from snowflake.snowpark.session import Session\n",
    "import snowflake.snowpark.functions as F\n",
    "import snowflake.snowpark.types as T\n",
    "\n",
    "import pandas as pd\n",
    "import numpy as np\n",
    "\n",
    "# import networkx as nx\n",
    "import itertools\n",
    "from typing import Iterable, Tuple\n",
    "\n",
    "import matplotlib.pyplot as plt\n",
    "\n"
   ]
  },
  {
   "cell_type": "markdown",
   "id": "a4cc07c5",
   "metadata": {},
   "source": [
    "### Reading Snowflake Connection Details from JSON file"
   ]
  },
  {
   "cell_type": "code",
   "execution_count": 5,
   "id": "e47f9e2d",
   "metadata": {},
   "outputs": [],
   "source": [
    "# Reading Snowflake Connection Details from JSON file\n",
    "# usr, pwd, account, warehouse, db, schema\n",
    "\n",
    "snowflake_connection_cfg = open('creds.json')\n",
    "snowflake_connection_cfg = snowflake_connection_cfg.read()\n",
    "snowflake_connection_cfg = json.loads(snowflake_connection_cfg)\n",
    "\n"
   ]
  },
  {
   "cell_type": "markdown",
   "id": "91a32515",
   "metadata": {},
   "source": [
    "### Creating Snowpark Session"
   ]
  },
  {
   "cell_type": "code",
   "execution_count": 6,
   "id": "39587ec6",
   "metadata": {},
   "outputs": [
    {
     "name": "stdout",
     "output_type": "stream",
     "text": [
      "Current Database: \"CITIBIKE\"\n",
      "Current Schema: \"DEMO\"\n",
      "Current Warehouse: \"BI_MEDIUM_WH\"\n"
     ]
    }
   ],
   "source": [
    "# Creating Snowpark Session\n",
    "session = Session.builder.configs(snowflake_connection_cfg).create()\n",
    "print('Current Database:', session.get_current_database())\n",
    "print('Current Schema:', session.get_current_schema())\n",
    "print('Current Warehouse:', session.get_current_warehouse())"
   ]
  },
  {
   "cell_type": "markdown",
   "id": "86f71b07",
   "metadata": {},
   "source": [
    "# Consultar una Vista de Snowflake"
   ]
  },
  {
   "cell_type": "code",
   "execution_count": 7,
   "id": "4daf52b8",
   "metadata": {},
   "outputs": [
    {
     "name": "stdout",
     "output_type": "stream",
     "text": [
      "-----------------------------------------------------------------------------\n",
      "|\"START_STATION_ID\"  |\"END_STATION_ID\"  |\"NUM_TRIPS\"  |\"AVG_DURATION_MINS\"  |\n",
      "-----------------------------------------------------------------------------\n",
      "|2006                |2006              |141312       |44.51                |\n",
      "|281                 |281               |69132        |51.46                |\n",
      "|3203                |3186              |59559        |7.51                 |\n",
      "|514                 |426               |59508        |23.46                |\n",
      "|435                 |509               |59080        |6.74                 |\n",
      "|499                 |499               |57053        |43.44                |\n",
      "|387                 |387               |55144        |32.55                |\n",
      "|432                 |3263              |52182        |6.74                 |\n",
      "|519                 |492               |49572        |9.45                 |\n",
      "|3423                |3423              |48523        |41.51                |\n",
      "-----------------------------------------------------------------------------\n",
      "\n"
     ]
    }
   ],
   "source": [
    "df_sql =  session.sql(\"Select START_STATION_ID, END_STATION_ID, NUM_TRIPS,AVG_DURATION_MINS from CITIBIKE.DEMO.VIEW_POPULAR_ROUTCITIBIKE\")\n",
    "df_sql.show()"
   ]
  },
  {
   "cell_type": "code",
   "execution_count": 8,
   "id": "a183792c",
   "metadata": {},
   "outputs": [
    {
     "data": {
      "text/html": [
       "<div>\n",
       "<style scoped>\n",
       "    .dataframe tbody tr th:only-of-type {\n",
       "        vertical-align: middle;\n",
       "    }\n",
       "\n",
       "    .dataframe tbody tr th {\n",
       "        vertical-align: top;\n",
       "    }\n",
       "\n",
       "    .dataframe thead th {\n",
       "        text-align: right;\n",
       "    }\n",
       "</style>\n",
       "<table border=\"1\" class=\"dataframe\">\n",
       "  <thead>\n",
       "    <tr style=\"text-align: right;\">\n",
       "      <th></th>\n",
       "      <th>START_STATION_ID</th>\n",
       "      <th>END_STATION_ID</th>\n",
       "      <th>NUM_TRIPS</th>\n",
       "      <th>AVG_DURATION_MINS</th>\n",
       "    </tr>\n",
       "  </thead>\n",
       "  <tbody>\n",
       "    <tr>\n",
       "      <th>0</th>\n",
       "      <td>2006</td>\n",
       "      <td>2006</td>\n",
       "      <td>141312</td>\n",
       "      <td>44.51</td>\n",
       "    </tr>\n",
       "    <tr>\n",
       "      <th>1</th>\n",
       "      <td>281</td>\n",
       "      <td>281</td>\n",
       "      <td>69132</td>\n",
       "      <td>51.46</td>\n",
       "    </tr>\n",
       "    <tr>\n",
       "      <th>2</th>\n",
       "      <td>3203</td>\n",
       "      <td>3186</td>\n",
       "      <td>59559</td>\n",
       "      <td>7.51</td>\n",
       "    </tr>\n",
       "    <tr>\n",
       "      <th>3</th>\n",
       "      <td>514</td>\n",
       "      <td>426</td>\n",
       "      <td>59508</td>\n",
       "      <td>23.46</td>\n",
       "    </tr>\n",
       "    <tr>\n",
       "      <th>4</th>\n",
       "      <td>435</td>\n",
       "      <td>509</td>\n",
       "      <td>59080</td>\n",
       "      <td>6.74</td>\n",
       "    </tr>\n",
       "    <tr>\n",
       "      <th>5</th>\n",
       "      <td>499</td>\n",
       "      <td>499</td>\n",
       "      <td>57053</td>\n",
       "      <td>43.44</td>\n",
       "    </tr>\n",
       "    <tr>\n",
       "      <th>6</th>\n",
       "      <td>387</td>\n",
       "      <td>387</td>\n",
       "      <td>55144</td>\n",
       "      <td>32.55</td>\n",
       "    </tr>\n",
       "    <tr>\n",
       "      <th>7</th>\n",
       "      <td>432</td>\n",
       "      <td>3263</td>\n",
       "      <td>52182</td>\n",
       "      <td>6.74</td>\n",
       "    </tr>\n",
       "    <tr>\n",
       "      <th>8</th>\n",
       "      <td>519</td>\n",
       "      <td>492</td>\n",
       "      <td>49572</td>\n",
       "      <td>9.45</td>\n",
       "    </tr>\n",
       "    <tr>\n",
       "      <th>9</th>\n",
       "      <td>3423</td>\n",
       "      <td>3423</td>\n",
       "      <td>48523</td>\n",
       "      <td>41.51</td>\n",
       "    </tr>\n",
       "  </tbody>\n",
       "</table>\n",
       "</div>"
      ],
      "text/plain": [
       "   START_STATION_ID  END_STATION_ID  NUM_TRIPS AVG_DURATION_MINS\n",
       "0              2006            2006     141312             44.51\n",
       "1               281             281      69132             51.46\n",
       "2              3203            3186      59559              7.51\n",
       "3               514             426      59508             23.46\n",
       "4               435             509      59080              6.74\n",
       "5               499             499      57053             43.44\n",
       "6               387             387      55144             32.55\n",
       "7               432            3263      52182              6.74\n",
       "8               519             492      49572              9.45\n",
       "9              3423            3423      48523             41.51"
      ]
     },
     "execution_count": 8,
     "metadata": {},
     "output_type": "execute_result"
    }
   ],
   "source": [
    "df_sql.toPandas()"
   ]
  },
  {
   "cell_type": "code",
   "execution_count": null,
   "id": "f09b299f",
   "metadata": {},
   "outputs": [],
   "source": []
  },
  {
   "cell_type": "code",
   "execution_count": null,
   "id": "e08dcf9e",
   "metadata": {},
   "outputs": [],
   "source": []
  },
  {
   "cell_type": "code",
   "execution_count": null,
   "id": "660ba412",
   "metadata": {},
   "outputs": [],
   "source": []
  },
  {
   "cell_type": "code",
   "execution_count": null,
   "id": "538a8998",
   "metadata": {},
   "outputs": [],
   "source": []
  },
  {
   "cell_type": "code",
   "execution_count": null,
   "id": "851862dd",
   "metadata": {},
   "outputs": [],
   "source": []
  },
  {
   "cell_type": "code",
   "execution_count": null,
   "id": "27167623",
   "metadata": {},
   "outputs": [],
   "source": []
  },
  {
   "cell_type": "code",
   "execution_count": null,
   "id": "f3088ee6",
   "metadata": {},
   "outputs": [],
   "source": [
    "# Create our dataframe with beergardens\n",
    "df_sql = session.create_dataframe(data, schema=['START_STATION_ID','END_STATION_ID','NUM_TRIPS','AVG_DURATION_MINS'])\n",
    "\n",
    "# Transform coordinates to geography data type for distance calculation\n",
    "#df = df.with_column('AVG_DURATION_MINS', F.to_geography('AVG_DURATION_MINS'))\n",
    "df_sql.toPandas()"
   ]
  },
  {
   "cell_type": "code",
   "execution_count": null,
   "id": "3fc8bd54",
   "metadata": {},
   "outputs": [],
   "source": [
    "dir(df_sql)"
   ]
  },
  {
   "cell_type": "code",
   "execution_count": null,
   "id": "8df01187",
   "metadata": {},
   "outputs": [],
   "source": [
    "# Create a DataFrame from the data in the \"sample_product_data\" table.\n",
    "df_table = session.table(\"VIEW_POPULAR_ROUTCITIBIKE\")"
   ]
  },
  {
   "cell_type": "markdown",
   "id": "d1214c84",
   "metadata": {},
   "source": [
    "# Definicion de la Vista"
   ]
  },
  {
   "cell_type": "code",
   "execution_count": null,
   "id": "7d219c13",
   "metadata": {},
   "outputs": [],
   "source": [
    "\n",
    "df = session.sql(\"SELECT GET_DDL('view', 'VIEW_POPULAR_ROUTCITIBIKE')\")\n",
    "pdf = df.to_pandas()\n",
    "print(pdf.values[:1][0][0])\n"
   ]
  },
  {
   "cell_type": "code",
   "execution_count": null,
   "id": "cfed96ee",
   "metadata": {},
   "outputs": [],
   "source": [
    "fig, ax = plt.subplots(figsize=(14,5))  # Create a figure containing a single axes.\n",
    "ax.bar([1, 2, 3, 4], [1, 4, 2, 3]);  # Plot some data on the axes."
   ]
  },
  {
   "cell_type": "markdown",
   "id": "f5c357c5",
   "metadata": {},
   "source": [
    "### Traveling Salesman Problem with NetworkX (Locally)"
   ]
  },
  {
   "cell_type": "code",
   "execution_count": null,
   "id": "19af680c",
   "metadata": {},
   "outputs": [],
   "source": [
    "# Creating a Graph\n",
    "graph = nx.Graph()\n",
    "graph.add_edge('A','B', weight=1)\n",
    "graph.add_edge('A','H', weight=1)\n",
    "graph.add_edge('B','C', weight=1)\n",
    "graph.add_edge('C','D', weight=3)\n",
    "graph.add_edge('D','E', weight=1)\n",
    "graph.add_edge('E','F', weight=5) # -> this heavy-weight path should be excluded by the algorithm\n",
    "graph.add_edge('F','G', weight=1)\n",
    "graph.add_edge('G','H', weight=1)\n",
    "\n",
    "# Running the traveling salesman problem algorithm\n",
    "tsp = nx.approximation.traveling_salesman_problem\n",
    "# path = tsp(graph, nodes=['C', 'F'], cycle=False) # shortes route from node C to node F\n",
    "path = tsp(graph, nodes=['A','B','C','D','E','F','G','H'], cycle=False,) # shortest route between all nodes\n",
    "path_edges = list(zip(path,path[1:]))\n",
    "\n",
    "# Function to construct list of tuples as return\n",
    "def ret_tuples(graph,res):\n",
    "    path_edges = list(zip(res,res[1:]))\n",
    "    path_edges = [val+(graph.get_edge_data(val[0],val[1])['weight'],) for val in path_edges]\n",
    "    return path_edges\n",
    "\n",
    "ret_tuples(graph, path)"
   ]
  },
  {
   "cell_type": "code",
   "execution_count": null,
   "id": "3d780aec",
   "metadata": {},
   "outputs": [],
   "source": [
    "# Visualize Graph\n",
    "pos = nx.spring_layout(graph)\n",
    "plt.figure(figsize=(12,6))\n",
    "nx.draw_networkx(\n",
    "    graph, pos, edge_color='black', width=1, linewidths=1,\n",
    "    node_size=500, node_color='yellow', alpha=0.9,\n",
    "    labels={node: node for node in graph.nodes()}\n",
    ")\n",
    "# Drawing Shortes Route\n",
    "nx.draw_networkx_nodes(graph,pos,nodelist=path,node_color='r')\n",
    "nx.draw_networkx_edges(graph,pos,edgelist=path_edges,edge_color='r',width=10)\n",
    "\n",
    "# Drawing Edge Labels\n",
    "edge_labels = dict([((n1, n2), graph.get_edge_data(n1,n2)['weight'])\n",
    "                    for n1, n2 in graph.edges])\n",
    "nx.draw_networkx_edge_labels(\n",
    "    graph, pos,\n",
    "    edge_labels=edge_labels,\n",
    "    font_color='blue'\n",
    ")"
   ]
  },
  {
   "cell_type": "markdown",
   "id": "f8c58785",
   "metadata": {},
   "source": [
    "# Creating a Snowflake User-Defined-Table-Function (UDTF)"
   ]
  },
  {
   "cell_type": "code",
   "execution_count": null,
   "id": "a4092ed7",
   "metadata": {},
   "outputs": [],
   "source": [
    "# Define class for UDTF\n",
    "class TravelingSalesmanProblem:\n",
    "    def __init__(self):\n",
    "        self.graph = nx.Graph()\n",
    "        \n",
    "    # In each iteration we are adding edges to our graph\n",
    "    def process(self, left: str, right: str, weight: int, nodes: list) -> Iterable[Tuple[str, str, int]]:\n",
    "        self.graph.add_edge(left, right, weight=weight)\n",
    "        self.nodes = nodes\n",
    "        return None\n",
    "        \n",
    "    # After the graph is built completely we are running the TSP algorithm\n",
    "    def end_partition(self):\n",
    "        tsp = nx.approximation.traveling_salesman_problem\n",
    "        path = tsp(self.graph, nodes=self.nodes, cycle=True)\n",
    "        res = self.ret_tuples(path)\n",
    "        return res\n",
    "    \n",
    "    # We are returning a list of tuples as a result\n",
    "    def ret_tuples(self,res):\n",
    "        path_edges = list(zip(res,res[1:]))\n",
    "        path_edges = [val+(self.graph.get_edge_data(val[0],val[1])['weight'],) for val in path_edges]\n",
    "        return path_edges"
   ]
  }
 ],
 "metadata": {
  "kernelspec": {
   "display_name": "Python 3 (ipykernel)",
   "language": "python",
   "name": "python3"
  },
  "language_info": {
   "codemirror_mode": {
    "name": "ipython",
    "version": 3
   },
   "file_extension": ".py",
   "mimetype": "text/x-python",
   "name": "python",
   "nbconvert_exporter": "python",
   "pygments_lexer": "ipython3",
   "version": "3.8.16"
  }
 },
 "nbformat": 4,
 "nbformat_minor": 5
}
