{
 "cells": [
  {
   "cell_type": "code",
   "execution_count": 12,
   "id": "85c997a2",
   "metadata": {},
   "outputs": [],
   "source": [
    "import numpy as np"
   ]
  },
  {
   "cell_type": "code",
   "execution_count": 1,
   "id": "6520413f",
   "metadata": {},
   "outputs": [],
   "source": [
    "#1.- Crear una matriz 3x3 con valores de 0 a 8\n",
    "\n",
    "#2.- Crear una matriz identidad de 6x6\n"
   ]
  },
  {
   "cell_type": "code",
   "execution_count": 15,
   "id": "ff0f6b7f",
   "metadata": {},
   "outputs": [],
   "source": [
    "a = np.array(range(1,10))"
   ]
  },
  {
   "cell_type": "code",
   "execution_count": 17,
   "id": "e8f2c416",
   "metadata": {},
   "outputs": [],
   "source": [
    "a = np.reshape(a,(3,3))"
   ]
  },
  {
   "cell_type": "code",
   "execution_count": 18,
   "id": "e0f550ed",
   "metadata": {},
   "outputs": [
    {
     "data": {
      "text/plain": [
       "array([[1, 2, 3],\n",
       "       [4, 5, 6],\n",
       "       [7, 8, 9]])"
      ]
     },
     "execution_count": 18,
     "metadata": {},
     "output_type": "execute_result"
    }
   ],
   "source": [
    "a\n"
   ]
  },
  {
   "cell_type": "code",
   "execution_count": 19,
   "id": "33d0e7c4",
   "metadata": {},
   "outputs": [],
   "source": [
    "i=np.identity(6)"
   ]
  },
  {
   "cell_type": "code",
   "execution_count": 20,
   "id": "d0206f03",
   "metadata": {},
   "outputs": [
    {
     "data": {
      "text/plain": [
       "array([[1., 0., 0., 0., 0., 0.],\n",
       "       [0., 1., 0., 0., 0., 0.],\n",
       "       [0., 0., 1., 0., 0., 0.],\n",
       "       [0., 0., 0., 1., 0., 0.],\n",
       "       [0., 0., 0., 0., 1., 0.],\n",
       "       [0., 0., 0., 0., 0., 1.]])"
      ]
     },
     "execution_count": 20,
     "metadata": {},
     "output_type": "execute_result"
    }
   ],
   "source": [
    "i\n"
   ]
  },
  {
   "cell_type": "code",
   "execution_count": null,
   "id": "e04be9f0",
   "metadata": {},
   "outputs": [],
   "source": []
  }
 ],
 "metadata": {
  "kernelspec": {
   "display_name": "Python 3 (ipykernel)",
   "language": "python",
   "name": "python3"
  },
  "language_info": {
   "codemirror_mode": {
    "name": "ipython",
    "version": 3
   },
   "file_extension": ".py",
   "mimetype": "text/x-python",
   "name": "python",
   "nbconvert_exporter": "python",
   "pygments_lexer": "ipython3",
   "version": "3.9.13"
  }
 },
 "nbformat": 4,
 "nbformat_minor": 5
}
