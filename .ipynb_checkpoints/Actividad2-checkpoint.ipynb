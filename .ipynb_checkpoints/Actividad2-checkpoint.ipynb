{
 "cells": [
  {
   "cell_type": "markdown",
   "id": "8247f055",
   "metadata": {},
   "source": [
    "# Actividad 2"
   ]
  },
  {
   "cell_type": "code",
   "execution_count": 20,
   "id": "93d85408",
   "metadata": {},
   "outputs": [],
   "source": [
    "mitupla = (\"Monterrey\",True,2023,\"Abril\",10)"
   ]
  },
  {
   "cell_type": "code",
   "execution_count": 21,
   "id": "337e2259",
   "metadata": {},
   "outputs": [
    {
     "data": {
      "text/plain": [
       "tuple"
      ]
     },
     "execution_count": 21,
     "metadata": {},
     "output_type": "execute_result"
    }
   ],
   "source": [
    "type(mitupla)"
   ]
  },
  {
   "cell_type": "code",
   "execution_count": 22,
   "id": "bdd95bd9",
   "metadata": {},
   "outputs": [],
   "source": [
    "milista = list(mitupla)"
   ]
  },
  {
   "cell_type": "code",
   "execution_count": 23,
   "id": "e76e7450",
   "metadata": {},
   "outputs": [
    {
     "data": {
      "text/plain": [
       "list"
      ]
     },
     "execution_count": 23,
     "metadata": {},
     "output_type": "execute_result"
    }
   ],
   "source": [
    "type(milista)"
   ]
  },
  {
   "cell_type": "code",
   "execution_count": 24,
   "id": "fb88480f",
   "metadata": {},
   "outputs": [
    {
     "data": {
      "text/plain": [
       "['Monterrey', True, 2023, 'Abril', 10]"
      ]
     },
     "execution_count": 24,
     "metadata": {},
     "output_type": "execute_result"
    }
   ],
   "source": [
    "milista"
   ]
  },
  {
   "cell_type": "code",
   "execution_count": 25,
   "id": "98b40faa",
   "metadata": {},
   "outputs": [],
   "source": [
    "mikey = (1,2,3,4,5)"
   ]
  },
  {
   "cell_type": "code",
   "execution_count": 26,
   "id": "a8b4342a",
   "metadata": {},
   "outputs": [
    {
     "data": {
      "text/plain": [
       "tuple"
      ]
     },
     "execution_count": 26,
     "metadata": {},
     "output_type": "execute_result"
    }
   ],
   "source": [
    "type(mikey)"
   ]
  },
  {
   "cell_type": "code",
   "execution_count": 27,
   "id": "0044aae6",
   "metadata": {},
   "outputs": [],
   "source": [
    "mikeylist = list(mikey)"
   ]
  },
  {
   "cell_type": "code",
   "execution_count": 28,
   "id": "5b74089e",
   "metadata": {},
   "outputs": [
    {
     "data": {
      "text/plain": [
       "list"
      ]
     },
     "execution_count": 28,
     "metadata": {},
     "output_type": "execute_result"
    }
   ],
   "source": [
    "type(mikeylist)"
   ]
  },
  {
   "cell_type": "code",
   "execution_count": 29,
   "id": "c382c0ed",
   "metadata": {},
   "outputs": [],
   "source": [
    "midiccionario = {}\n",
    "for key in mikeylist:\n",
    "        for value in milista:\n",
    "            midiccionario[key] = value\n",
    "            milista.remove(value)\n",
    "            break"
   ]
  },
  {
   "cell_type": "code",
   "execution_count": null,
   "id": "8115fa21",
   "metadata": {},
   "outputs": [],
   "source": []
  },
  {
   "cell_type": "code",
   "execution_count": 30,
   "id": "f53e3778",
   "metadata": {},
   "outputs": [
    {
     "name": "stdout",
     "output_type": "stream",
     "text": [
      "Resultado midiccionario: {1: 'Monterrey', 2: True, 3: 2023, 4: 'Abril', 5: 10}\n"
     ]
    }
   ],
   "source": [
    "print(\"Resultado midiccionario: \" + str(midiccionario))"
   ]
  },
  {
   "cell_type": "code",
   "execution_count": null,
   "id": "087c38be",
   "metadata": {},
   "outputs": [],
   "source": [
    "# "
   ]
  }
 ],
 "metadata": {
  "kernelspec": {
   "display_name": "Python 3 (ipykernel)",
   "language": "python",
   "name": "python3"
  },
  "language_info": {
   "codemirror_mode": {
    "name": "ipython",
    "version": 3
   },
   "file_extension": ".py",
   "mimetype": "text/x-python",
   "name": "python",
   "nbconvert_exporter": "python",
   "pygments_lexer": "ipython3",
   "version": "3.9.13"
  }
 },
 "nbformat": 4,
 "nbformat_minor": 5
}
