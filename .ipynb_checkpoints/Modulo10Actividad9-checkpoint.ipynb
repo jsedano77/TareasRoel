{
 "cells": [
  {
   "cell_type": "markdown",
   "id": "7305d9e1",
   "metadata": {},
   "source": [
    "## Modulo 10 - Actividad 9"
   ]
  },
  {
   "cell_type": "code",
   "execution_count": 11,
   "id": "257bc769",
   "metadata": {},
   "outputs": [
    {
     "name": "stdout",
     "output_type": "stream",
     "text": [
      "Ingresa un numero:\n",
      "5\n",
      "Ingresa otro numero:\n",
      "7\n",
      "7 Es Mayor\n"
     ]
    }
   ],
   "source": [
    "print(\"Ingresa un numero:\") \n",
    "x=input()\n",
    "print(\"Ingresa otro numero:\")\n",
    "y=input()\n",
    "if(x>y):\n",
    "    print(str(x), \"Es mayor\")\n",
    "else:\n",
    "    if(x==y):\n",
    "        print(str(x), \"Son Iguales\")\n",
    "    else:\n",
    "        print(str(y), \"Es Mayor\")\n"
   ]
  },
  {
   "cell_type": "code",
   "execution_count": null,
   "id": "15915292",
   "metadata": {},
   "outputs": [],
   "source": [
    "1"
   ]
  }
 ],
 "metadata": {
  "kernelspec": {
   "display_name": "Python 3 (ipykernel)",
   "language": "python",
   "name": "python3"
  },
  "language_info": {
   "codemirror_mode": {
    "name": "ipython",
    "version": 3
   },
   "file_extension": ".py",
   "mimetype": "text/x-python",
   "name": "python",
   "nbconvert_exporter": "python",
   "pygments_lexer": "ipython3",
   "version": "3.8.16"
  }
 },
 "nbformat": 4,
 "nbformat_minor": 5
}
