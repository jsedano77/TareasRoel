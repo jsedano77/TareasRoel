{
 "cells": [
  {
   "cell_type": "markdown",
   "id": "f828dc5c",
   "metadata": {},
   "source": [
    "# Sesión 18 - Actividades"
   ]
  },
  {
   "cell_type": "markdown",
   "id": "188a76fb",
   "metadata": {},
   "source": [
    "## Actividad 1\n",
    "### Crea / Presenta la forma que creas más conveniente para  describir qué grado por escuela tuvo el mejor puntaje en  \"reading\", y con ello saber que genero es el que predomina en  este ﬁltro.\n",
    "## Ativiadd 2\n",
    "### Crea / Presenta un algoritmo que genere los datos de  \"reading_score\" y \"math_score\", en variables categoricas, y guardalo  en dos columnas diferentes (cada columna nueva representa la  nueva columna con variables categórica)\n",
    "## Actividad\n",
    "### Crea / Presenta una gráﬁca que condense la información obtenida  ahora categóricamente"
   ]
  },
  {
   "cell_type": "code",
   "execution_count": null,
   "id": "1b872b09",
   "metadata": {},
   "outputs": [],
   "source": [
    "import pandas as pd\n",
    "import numpy as np\n",
    "import csv"
   ]
  }
 ],
 "metadata": {
  "kernelspec": {
   "display_name": "Python 3 (ipykernel)",
   "language": "python",
   "name": "python3"
  },
  "language_info": {
   "codemirror_mode": {
    "name": "ipython",
    "version": 3
   },
   "file_extension": ".py",
   "mimetype": "text/x-python",
   "name": "python",
   "nbconvert_exporter": "python",
   "pygments_lexer": "ipython3",
   "version": "3.9.13"
  }
 },
 "nbformat": 4,
 "nbformat_minor": 5
}
