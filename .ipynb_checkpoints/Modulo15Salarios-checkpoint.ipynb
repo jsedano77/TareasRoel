{
 "cells": [
  {
   "cell_type": "markdown",
   "id": "d5461695",
   "metadata": {},
   "source": [
    "# Sesión 15 - Salarios"
   ]
  },
  {
   "cell_type": "markdown",
   "id": "96614a73",
   "metadata": {},
   "source": [
    "## Actividad Básica\n",
    "\n",
    "### Obtener la diferencia entre el salario más alto y el más bajo dentro de los datos. Para esto, se debe encontrar el valor máximo y restarle el valor mínimo de los datos (la respuesta a esta operación se llama rango de los datos).\n",
    " \n",
    "\n",
    "## Actividad Avanzada\n",
    "\n",
    "### Obtener los estadísticos descriptivos de los salarios. (media, mediana, desviación estándar, etc.) Mostrar los resultados de una manera sencilla de leer para el usuario."
   ]
  },
  {
   "cell_type": "code",
   "execution_count": 1,
   "id": "ac487250",
   "metadata": {},
   "outputs": [],
   "source": [
    "import pandas as pd\n",
    "import numpy as np"
   ]
  },
  {
   "cell_type": "code",
   "execution_count": 2,
   "id": "cf84298d",
   "metadata": {},
   "outputs": [],
   "source": [
    "dict_1={\n",
    "    \"Nombre\":[\"Ringo\",\"John\",\"Paul\",\"George\",\"Yoko\"],\n",
    "    \"Edad\":[45,34,42,38,47],\n",
    "    \"Salario\":[12000,14000,13000,11000,10000],\n",
    "    \"Genero\":[\"M\",\"M\",\"M\",\"M\",\"F\"]\n",
    "}"
   ]
  },
  {
   "cell_type": "code",
   "execution_count": 3,
   "id": "1328ce85",
   "metadata": {},
   "outputs": [
    {
     "data": {
      "text/plain": [
       "{'Nombre': ['Ringo', 'John', 'Paul', 'George', 'Yoko'],\n",
       " 'Edad': [45, 34, 42, 38, 47],\n",
       " 'Salario': [12000, 14000, 13000, 11000, 10000],\n",
       " 'Genero': ['M', 'M', 'M', 'M', 'F']}"
      ]
     },
     "execution_count": 3,
     "metadata": {},
     "output_type": "execute_result"
    }
   ],
   "source": [
    "dict_1"
   ]
  },
  {
   "cell_type": "code",
   "execution_count": 4,
   "id": "687e917f",
   "metadata": {},
   "outputs": [],
   "source": [
    "data=pd.DataFrame(dict_1)"
   ]
  },
  {
   "cell_type": "code",
   "execution_count": 5,
   "id": "a6f01301",
   "metadata": {},
   "outputs": [
    {
     "data": {
      "text/html": [
       "<div>\n",
       "<style scoped>\n",
       "    .dataframe tbody tr th:only-of-type {\n",
       "        vertical-align: middle;\n",
       "    }\n",
       "\n",
       "    .dataframe tbody tr th {\n",
       "        vertical-align: top;\n",
       "    }\n",
       "\n",
       "    .dataframe thead th {\n",
       "        text-align: right;\n",
       "    }\n",
       "</style>\n",
       "<table border=\"1\" class=\"dataframe\">\n",
       "  <thead>\n",
       "    <tr style=\"text-align: right;\">\n",
       "      <th></th>\n",
       "      <th>Nombre</th>\n",
       "      <th>Edad</th>\n",
       "      <th>Salario</th>\n",
       "      <th>Genero</th>\n",
       "    </tr>\n",
       "  </thead>\n",
       "  <tbody>\n",
       "    <tr>\n",
       "      <th>0</th>\n",
       "      <td>Ringo</td>\n",
       "      <td>45</td>\n",
       "      <td>12000</td>\n",
       "      <td>M</td>\n",
       "    </tr>\n",
       "    <tr>\n",
       "      <th>1</th>\n",
       "      <td>John</td>\n",
       "      <td>34</td>\n",
       "      <td>14000</td>\n",
       "      <td>M</td>\n",
       "    </tr>\n",
       "    <tr>\n",
       "      <th>2</th>\n",
       "      <td>Paul</td>\n",
       "      <td>42</td>\n",
       "      <td>13000</td>\n",
       "      <td>M</td>\n",
       "    </tr>\n",
       "    <tr>\n",
       "      <th>3</th>\n",
       "      <td>George</td>\n",
       "      <td>38</td>\n",
       "      <td>11000</td>\n",
       "      <td>M</td>\n",
       "    </tr>\n",
       "    <tr>\n",
       "      <th>4</th>\n",
       "      <td>Yoko</td>\n",
       "      <td>47</td>\n",
       "      <td>10000</td>\n",
       "      <td>F</td>\n",
       "    </tr>\n",
       "  </tbody>\n",
       "</table>\n",
       "</div>"
      ],
      "text/plain": [
       "   Nombre  Edad  Salario Genero\n",
       "0   Ringo    45    12000      M\n",
       "1    John    34    14000      M\n",
       "2    Paul    42    13000      M\n",
       "3  George    38    11000      M\n",
       "4    Yoko    47    10000      F"
      ]
     },
     "execution_count": 5,
     "metadata": {},
     "output_type": "execute_result"
    }
   ],
   "source": [
    "data"
   ]
  },
  {
   "cell_type": "code",
   "execution_count": 8,
   "id": "607c0e96",
   "metadata": {},
   "outputs": [
    {
     "data": {
      "text/html": [
       "<div>\n",
       "<style scoped>\n",
       "    .dataframe tbody tr th:only-of-type {\n",
       "        vertical-align: middle;\n",
       "    }\n",
       "\n",
       "    .dataframe tbody tr th {\n",
       "        vertical-align: top;\n",
       "    }\n",
       "\n",
       "    .dataframe thead th {\n",
       "        text-align: right;\n",
       "    }\n",
       "</style>\n",
       "<table border=\"1\" class=\"dataframe\">\n",
       "  <thead>\n",
       "    <tr style=\"text-align: right;\">\n",
       "      <th></th>\n",
       "      <th>Edad</th>\n",
       "      <th>Salario</th>\n",
       "    </tr>\n",
       "  </thead>\n",
       "  <tbody>\n",
       "    <tr>\n",
       "      <th>count</th>\n",
       "      <td>5.000000</td>\n",
       "      <td>5.00000</td>\n",
       "    </tr>\n",
       "    <tr>\n",
       "      <th>mean</th>\n",
       "      <td>41.200000</td>\n",
       "      <td>12000.00000</td>\n",
       "    </tr>\n",
       "    <tr>\n",
       "      <th>std</th>\n",
       "      <td>5.263079</td>\n",
       "      <td>1581.13883</td>\n",
       "    </tr>\n",
       "    <tr>\n",
       "      <th>min</th>\n",
       "      <td>34.000000</td>\n",
       "      <td>10000.00000</td>\n",
       "    </tr>\n",
       "    <tr>\n",
       "      <th>25%</th>\n",
       "      <td>38.000000</td>\n",
       "      <td>11000.00000</td>\n",
       "    </tr>\n",
       "    <tr>\n",
       "      <th>50%</th>\n",
       "      <td>42.000000</td>\n",
       "      <td>12000.00000</td>\n",
       "    </tr>\n",
       "    <tr>\n",
       "      <th>75%</th>\n",
       "      <td>45.000000</td>\n",
       "      <td>13000.00000</td>\n",
       "    </tr>\n",
       "    <tr>\n",
       "      <th>max</th>\n",
       "      <td>47.000000</td>\n",
       "      <td>14000.00000</td>\n",
       "    </tr>\n",
       "  </tbody>\n",
       "</table>\n",
       "</div>"
      ],
      "text/plain": [
       "            Edad      Salario\n",
       "count   5.000000      5.00000\n",
       "mean   41.200000  12000.00000\n",
       "std     5.263079   1581.13883\n",
       "min    34.000000  10000.00000\n",
       "25%    38.000000  11000.00000\n",
       "50%    42.000000  12000.00000\n",
       "75%    45.000000  13000.00000\n",
       "max    47.000000  14000.00000"
      ]
     },
     "execution_count": 8,
     "metadata": {},
     "output_type": "execute_result"
    }
   ],
   "source": [
    "data.describe()"
   ]
  },
  {
   "cell_type": "markdown",
   "id": "85b36e7f",
   "metadata": {},
   "source": [
    "### salario más alto"
   ]
  },
  {
   "cell_type": "code",
   "execution_count": 13,
   "id": "b0736de4",
   "metadata": {},
   "outputs": [],
   "source": [
    "dataMax = data[\"Salario\"].max()"
   ]
  },
  {
   "cell_type": "code",
   "execution_count": 14,
   "id": "0d94709e",
   "metadata": {},
   "outputs": [
    {
     "data": {
      "text/plain": [
       "14000"
      ]
     },
     "execution_count": 14,
     "metadata": {},
     "output_type": "execute_result"
    }
   ],
   "source": [
    "dataMax"
   ]
  },
  {
   "cell_type": "markdown",
   "id": "9840b99e",
   "metadata": {},
   "source": [
    "### salario más bajo"
   ]
  },
  {
   "cell_type": "code",
   "execution_count": 15,
   "id": "c10c590f",
   "metadata": {},
   "outputs": [],
   "source": [
    "dataMin = data[\"Salario\"].min()"
   ]
  },
  {
   "cell_type": "code",
   "execution_count": 16,
   "id": "7d70c3b4",
   "metadata": {},
   "outputs": [
    {
     "data": {
      "text/plain": [
       "10000"
      ]
     },
     "execution_count": 16,
     "metadata": {},
     "output_type": "execute_result"
    }
   ],
   "source": [
    "dataMin"
   ]
  },
  {
   "cell_type": "markdown",
   "id": "ce3a191e",
   "metadata": {},
   "source": [
    "### Diferencia"
   ]
  },
  {
   "cell_type": "code",
   "execution_count": 18,
   "id": "d59506cf",
   "metadata": {},
   "outputs": [],
   "source": [
    "dataDif = dataMax - dataMin"
   ]
  },
  {
   "cell_type": "code",
   "execution_count": 19,
   "id": "4b40cef8",
   "metadata": {},
   "outputs": [
    {
     "data": {
      "text/plain": [
       "4000"
      ]
     },
     "execution_count": 19,
     "metadata": {},
     "output_type": "execute_result"
    }
   ],
   "source": [
    "dataDif"
   ]
  },
  {
   "cell_type": "markdown",
   "id": "b0e19264",
   "metadata": {},
   "source": [
    "### Estadísticos descriptivos de los salarios"
   ]
  },
  {
   "cell_type": "code",
   "execution_count": 22,
   "id": "8bbee1bf",
   "metadata": {},
   "outputs": [
    {
     "data": {
      "text/html": [
       "<div>\n",
       "<style scoped>\n",
       "    .dataframe tbody tr th:only-of-type {\n",
       "        vertical-align: middle;\n",
       "    }\n",
       "\n",
       "    .dataframe tbody tr th {\n",
       "        vertical-align: top;\n",
       "    }\n",
       "\n",
       "    .dataframe thead th {\n",
       "        text-align: right;\n",
       "    }\n",
       "</style>\n",
       "<table border=\"1\" class=\"dataframe\">\n",
       "  <thead>\n",
       "    <tr style=\"text-align: right;\">\n",
       "      <th></th>\n",
       "      <th>Edad</th>\n",
       "      <th>Salario</th>\n",
       "    </tr>\n",
       "  </thead>\n",
       "  <tbody>\n",
       "    <tr>\n",
       "      <th>count</th>\n",
       "      <td>5.000000</td>\n",
       "      <td>5.00000</td>\n",
       "    </tr>\n",
       "    <tr>\n",
       "      <th>mean</th>\n",
       "      <td>41.200000</td>\n",
       "      <td>12000.00000</td>\n",
       "    </tr>\n",
       "    <tr>\n",
       "      <th>std</th>\n",
       "      <td>5.263079</td>\n",
       "      <td>1581.13883</td>\n",
       "    </tr>\n",
       "    <tr>\n",
       "      <th>min</th>\n",
       "      <td>34.000000</td>\n",
       "      <td>10000.00000</td>\n",
       "    </tr>\n",
       "    <tr>\n",
       "      <th>25%</th>\n",
       "      <td>38.000000</td>\n",
       "      <td>11000.00000</td>\n",
       "    </tr>\n",
       "    <tr>\n",
       "      <th>50%</th>\n",
       "      <td>42.000000</td>\n",
       "      <td>12000.00000</td>\n",
       "    </tr>\n",
       "    <tr>\n",
       "      <th>75%</th>\n",
       "      <td>45.000000</td>\n",
       "      <td>13000.00000</td>\n",
       "    </tr>\n",
       "    <tr>\n",
       "      <th>max</th>\n",
       "      <td>47.000000</td>\n",
       "      <td>14000.00000</td>\n",
       "    </tr>\n",
       "  </tbody>\n",
       "</table>\n",
       "</div>"
      ],
      "text/plain": [
       "            Edad      Salario\n",
       "count   5.000000      5.00000\n",
       "mean   41.200000  12000.00000\n",
       "std     5.263079   1581.13883\n",
       "min    34.000000  10000.00000\n",
       "25%    38.000000  11000.00000\n",
       "50%    42.000000  12000.00000\n",
       "75%    45.000000  13000.00000\n",
       "max    47.000000  14000.00000"
      ]
     },
     "execution_count": 22,
     "metadata": {},
     "output_type": "execute_result"
    }
   ],
   "source": [
    "data.describe()"
   ]
  },
  {
   "cell_type": "code",
   "execution_count": 23,
   "id": "61700fb2",
   "metadata": {},
   "outputs": [
    {
     "data": {
      "text/plain": [
       "Nombre     5\n",
       "Edad       5\n",
       "Salario    5\n",
       "Genero     5\n",
       "dtype: int64"
      ]
     },
     "execution_count": 23,
     "metadata": {},
     "output_type": "execute_result"
    }
   ],
   "source": [
    "data.count()"
   ]
  },
  {
   "cell_type": "code",
   "execution_count": 27,
   "id": "2cb228f2",
   "metadata": {},
   "outputs": [
    {
     "data": {
      "text/plain": [
       "12000.0"
      ]
     },
     "execution_count": 27,
     "metadata": {},
     "output_type": "execute_result"
    }
   ],
   "source": [
    "data[\"Salario\"].mean()"
   ]
  },
  {
   "cell_type": "code",
   "execution_count": 28,
   "id": "7bd13588",
   "metadata": {},
   "outputs": [
    {
     "data": {
      "text/plain": [
       "42.0"
      ]
     },
     "execution_count": 28,
     "metadata": {},
     "output_type": "execute_result"
    }
   ],
   "source": [
    "data[\"Edad\"].median()"
   ]
  },
  {
   "cell_type": "code",
   "execution_count": 30,
   "id": "ca9a059c",
   "metadata": {},
   "outputs": [
    {
     "data": {
      "text/plain": [
       "Nombre     5\n",
       "Edad       5\n",
       "Salario    5\n",
       "Genero     5\n",
       "dtype: int64"
      ]
     },
     "execution_count": 30,
     "metadata": {},
     "output_type": "execute_result"
    }
   ],
   "source": [
    "data.count()"
   ]
  },
  {
   "cell_type": "code",
   "execution_count": 31,
   "id": "7a50927a",
   "metadata": {},
   "outputs": [
    {
     "data": {
      "text/plain": [
       "Nombre     RingoJohnPaulGeorgeYoko\n",
       "Edad                           206\n",
       "Salario                      60000\n",
       "Genero                       MMMMF\n",
       "dtype: object"
      ]
     },
     "execution_count": 31,
     "metadata": {},
     "output_type": "execute_result"
    }
   ],
   "source": [
    "data.sum()"
   ]
  },
  {
   "cell_type": "code",
   "execution_count": 32,
   "id": "ff1f0ccd",
   "metadata": {},
   "outputs": [
    {
     "data": {
      "text/plain": [
       "Nombre      Yoko\n",
       "Edad          47\n",
       "Salario    14000\n",
       "Genero         M\n",
       "dtype: object"
      ]
     },
     "execution_count": 32,
     "metadata": {},
     "output_type": "execute_result"
    }
   ],
   "source": [
    "data.max()"
   ]
  },
  {
   "cell_type": "code",
   "execution_count": 33,
   "id": "7bba3fd7",
   "metadata": {},
   "outputs": [
    {
     "data": {
      "text/plain": [
       "Nombre     George\n",
       "Edad           34\n",
       "Salario     10000\n",
       "Genero          F\n",
       "dtype: object"
      ]
     },
     "execution_count": 33,
     "metadata": {},
     "output_type": "execute_result"
    }
   ],
   "source": [
    "data.min()"
   ]
  },
  {
   "cell_type": "code",
   "execution_count": null,
   "id": "fe8b6020",
   "metadata": {},
   "outputs": [],
   "source": []
  }
 ],
 "metadata": {
  "kernelspec": {
   "display_name": "Python 3 (ipykernel)",
   "language": "python",
   "name": "python3"
  },
  "language_info": {
   "codemirror_mode": {
    "name": "ipython",
    "version": 3
   },
   "file_extension": ".py",
   "mimetype": "text/x-python",
   "name": "python",
   "nbconvert_exporter": "python",
   "pygments_lexer": "ipython3",
   "version": "3.9.13"
  }
 },
 "nbformat": 4,
 "nbformat_minor": 5
}
