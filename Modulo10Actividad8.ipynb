{
 "cells": [
  {
   "cell_type": "markdown",
   "id": "38f9e54a",
   "metadata": {},
   "source": [
    "# Modulo 10 Actividad 8"
   ]
  },
  {
   "cell_type": "markdown",
   "id": "e0ea302c",
   "metadata": {},
   "source": [
    "# ¿Cual es tu edad?"
   ]
  },
  {
   "cell_type": "code",
   "execution_count": 1,
   "id": "690c35ba",
   "metadata": {},
   "outputs": [
    {
     "name": "stdout",
     "output_type": "stream",
     "text": [
      "Hola! Esta es la actividad 8\n",
      "Por favor ingrese su nombre: \n",
      "Roel\n",
      "Bienvenido  Roel\n"
     ]
    }
   ],
   "source": [
    "print(\"Hola! Esta es la actividad 8\")\n",
    "\n",
    "print(\"Por favor ingrese su nombre: \")\n",
    "\n",
    "nombre = input() #variable nombre\n",
    "\n",
    "print(\"Bienvenido \", nombre)"
   ]
  },
  {
   "cell_type": "code",
   "execution_count": 2,
   "id": "cb815135",
   "metadata": {},
   "outputs": [
    {
     "name": "stdout",
     "output_type": "stream",
     "text": [
      "Cual es tu edad: \n",
      "7\n",
      " Eres menor de Edad\n"
     ]
    }
   ],
   "source": [
    "print(\"Cual es tu edad: \")\n",
    "edad = input() #Variable Edad\n",
    "if(int(edad) >= 18):\n",
    "    print(\" Eres mayor de Edad\")\n",
    "else:\n",
    "    print(\" Eres menor de Edad\")"
   ]
  },
  {
   "cell_type": "code",
   "execution_count": null,
   "id": "c3d191c6",
   "metadata": {},
   "outputs": [],
   "source": []
  },
  {
   "cell_type": "code",
   "execution_count": null,
   "id": "59d3d9c6",
   "metadata": {},
   "outputs": [],
   "source": []
  }
 ],
 "metadata": {
  "kernelspec": {
   "display_name": "Python 3 (ipykernel)",
   "language": "python",
   "name": "python3"
  },
  "language_info": {
   "codemirror_mode": {
    "name": "ipython",
    "version": 3
   },
   "file_extension": ".py",
   "mimetype": "text/x-python",
   "name": "python",
   "nbconvert_exporter": "python",
   "pygments_lexer": "ipython3",
   "version": "3.8.16"
  }
 },
 "nbformat": 4,
 "nbformat_minor": 5
}
