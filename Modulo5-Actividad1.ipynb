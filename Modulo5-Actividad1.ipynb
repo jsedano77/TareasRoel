{
 "cells": [
  {
   "cell_type": "code",
   "execution_count": 1,
   "id": "e188118c",
   "metadata": {},
   "outputs": [],
   "source": [
    "import numpy as np"
   ]
  },
  {
   "cell_type": "code",
   "execution_count": 12,
   "id": "11f2d04b",
   "metadata": {},
   "outputs": [],
   "source": [
    "n={15,30,45}"
   ]
  },
  {
   "cell_type": "code",
   "execution_count": 13,
   "id": "f2bb7dde",
   "metadata": {},
   "outputs": [
    {
     "data": {
      "text/plain": [
       "set"
      ]
     },
     "execution_count": 13,
     "metadata": {},
     "output_type": "execute_result"
    }
   ],
   "source": [
    "type(n)"
   ]
  },
  {
   "cell_type": "markdown",
   "id": "88f0a0fc",
   "metadata": {},
   "source": [
    "m=np.array(n)"
   ]
  },
  {
   "cell_type": "code",
   "execution_count": 14,
   "id": "8c04f429",
   "metadata": {},
   "outputs": [],
   "source": [
    "nl=list(n)"
   ]
  },
  {
   "cell_type": "code",
   "execution_count": 15,
   "id": "26f96896",
   "metadata": {},
   "outputs": [],
   "source": [
    "m=np.array(nl)"
   ]
  },
  {
   "cell_type": "code",
   "execution_count": 16,
   "id": "d582cc0f",
   "metadata": {},
   "outputs": [
    {
     "data": {
      "text/plain": [
       "numpy.ndarray"
      ]
     },
     "execution_count": 16,
     "metadata": {},
     "output_type": "execute_result"
    }
   ],
   "source": [
    "type(m)\n"
   ]
  },
  {
   "cell_type": "code",
   "execution_count": 20,
   "id": "7856e96a",
   "metadata": {},
   "outputs": [
    {
     "name": "stdout",
     "output_type": "stream",
     "text": [
      "[45 30 15]\n"
     ]
    }
   ],
   "source": [
    "print(str(m))"
   ]
  },
  {
   "cell_type": "code",
   "execution_count": 18,
   "id": "24fcf261",
   "metadata": {},
   "outputs": [],
   "source": [
    "a=np.array([0, 1, 2, 3, 4, 0, 1, 2, 3, 4])"
   ]
  },
  {
   "cell_type": "code",
   "execution_count": 19,
   "id": "371820f4",
   "metadata": {},
   "outputs": [
    {
     "data": {
      "text/plain": [
       "array([0, 1, 2, 3, 4, 0, 1, 2, 3, 4])"
      ]
     },
     "execution_count": 19,
     "metadata": {},
     "output_type": "execute_result"
    }
   ],
   "source": [
    "a"
   ]
  },
  {
   "cell_type": "code",
   "execution_count": 21,
   "id": "beac04ce",
   "metadata": {},
   "outputs": [],
   "source": [
    "a.sort()"
   ]
  },
  {
   "cell_type": "code",
   "execution_count": 22,
   "id": "f25a49fa",
   "metadata": {},
   "outputs": [
    {
     "data": {
      "text/plain": [
       "array([0, 0, 1, 1, 2, 2, 3, 3, 4, 4])"
      ]
     },
     "execution_count": 22,
     "metadata": {},
     "output_type": "execute_result"
    }
   ],
   "source": [
    "a"
   ]
  },
  {
   "cell_type": "code",
   "execution_count": null,
   "id": "78a36350",
   "metadata": {},
   "outputs": [],
   "source": []
  }
 ],
 "metadata": {
  "kernelspec": {
   "display_name": "Python 3 (ipykernel)",
   "language": "python",
   "name": "python3"
  },
  "language_info": {
   "codemirror_mode": {
    "name": "ipython",
    "version": 3
   },
   "file_extension": ".py",
   "mimetype": "text/x-python",
   "name": "python",
   "nbconvert_exporter": "python",
   "pygments_lexer": "ipython3",
   "version": "3.9.13"
  }
 },
 "nbformat": 4,
 "nbformat_minor": 5
}
